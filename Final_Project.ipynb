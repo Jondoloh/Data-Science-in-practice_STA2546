{
  "cells": [
    {
      "cell_type": "markdown",
      "metadata": {
        "id": "view-in-github",
        "colab_type": "text"
      },
      "source": [
        "<a href=\"https://colab.research.google.com/github/Jondoloh/Data-Science-in-practice_STA2546/blob/main/Final_Project.ipynb\" target=\"_parent\"><img src=\"https://colab.research.google.com/assets/colab-badge.svg\" alt=\"Open In Colab\"/></a>"
      ]
    },
    {
      "cell_type": "code",
      "execution_count": null,
      "id": "6e76c148",
      "metadata": {
        "id": "6e76c148"
      },
      "outputs": [],
      "source": [
        "from sklearn.datasets import fetch_20newsgroups\n",
        "from sklearn.feature_extraction.text import TfidfVectorizer\n",
        "\n",
        "from sklearn.naive_bayes import MultinomialNB\n",
        "from sklearn.linear_model import SGDClassifier\n",
        "from sklearn.svm import SVC\n",
        "from sklearn import metrics\n",
        "import warnings\n",
        "warnings.simplefilter('ignore')\n",
        "\n",
        "import numpy as np"
      ]
    },
    {
      "cell_type": "markdown",
      "id": "e1c4cc64",
      "metadata": {
        "id": "e1c4cc64"
      },
      "source": [
        "# 1) Preliminary Analysis of data\n",
        "\n",
        "####      a) train and test split"
      ]
    },
    {
      "cell_type": "code",
      "execution_count": null,
      "id": "d19665a0",
      "metadata": {
        "colab": {
          "base_uri": "https://localhost:8080/"
        },
        "id": "d19665a0",
        "outputId": "c561334c-0ec3-491f-d1de-c5d354676073"
      },
      "outputs": [
        {
          "output_type": "stream",
          "name": "stdout",
          "text": [
            "11314\n",
            "7532\n"
          ]
        }
      ],
      "source": [
        "newsgroups_train = fetch_20newsgroups(subset='train')\n",
        "newsgroups_test = fetch_20newsgroups(subset='test')\n",
        "\n",
        "print(len(newsgroups_train.data))\n",
        "print(len(newsgroups_test.data))"
      ]
    },
    {
      "cell_type": "code",
      "execution_count": null,
      "id": "985d860f",
      "metadata": {
        "id": "985d860f"
      },
      "outputs": [],
      "source": [
        "new_target_list_train = []\n",
        "new_target_list_test = []\n",
        "curr_target_list_train = newsgroups_train.target\n",
        "curr_target_list_test = newsgroups_test.target\n",
        "target_names_new = [\"Religion\", \"Technology\", \"Other\", \"Recreation\", \"Science\", \"Politics\"]\n",
        "\n",
        "def target_transform(data):\n",
        "    output_list = []\n",
        "    for i in range(len(data)):\n",
        "        if data[i] in (0, 15):\n",
        "            output_list.append(0)\n",
        "        elif data[i] in (1, 2, 3, 4, 5, 12):\n",
        "            output_list.append(1)\n",
        "        elif data[i] == 6:\n",
        "            output_list.append(2)\n",
        "        elif data[i] in (7, 8, 9, 10):\n",
        "            output_list.append(3)\n",
        "        elif data[i] in (11, 13, 14):\n",
        "            output_list.append(4)\n",
        "        elif data[i] in (16, 17, 18, 19):\n",
        "            output_list.append(5)\n",
        "    return output_list\n",
        "\n",
        "new_target_list_train = target_transform(curr_target_list_train)\n",
        "new_target_list_test = target_transform(curr_target_list_test)\n",
        "\n",
        "newsgroups_train[\"new_target\"] = np.array(new_target_list_train)\n",
        "newsgroups_train[\"new_target_names\"] = np.array(target_names_new)\n",
        "newsgroups_test[\"new_target\"] = np.array(new_target_list_test)\n",
        "newsgroups_test[\"new_target_names\"] = np.array(target_names_new)"
      ]
    },
    {
      "cell_type": "code",
      "execution_count": null,
      "id": "f270c24f",
      "metadata": {
        "colab": {
          "base_uri": "https://localhost:8080/"
        },
        "id": "f270c24f",
        "outputId": "516e0e6a-a625-4f17-b494-dd2d8ea8671e"
      },
      "outputs": [
        {
          "output_type": "execute_result",
          "data": {
            "text/plain": [
              "(11314, 129796)"
            ]
          },
          "metadata": {},
          "execution_count": 4
        }
      ],
      "source": [
        "#vectorize the data\n",
        "vectorizer = TfidfVectorizer(stop_words='english')\n",
        "vectors = vectorizer.fit_transform(newsgroups_train.data)\n",
        "vectors.shape"
      ]
    },
    {
      "cell_type": "markdown",
      "id": "4d0f74b3",
      "metadata": {
        "id": "4d0f74b3"
      },
      "source": [
        "# 2) First Iteration of the model\n",
        "### (train based on all data)"
      ]
    },
    {
      "cell_type": "markdown",
      "id": "2c504979",
      "metadata": {
        "id": "2c504979"
      },
      "source": [
        "# Multinomial NB Model"
      ]
    },
    {
      "cell_type": "code",
      "execution_count": null,
      "id": "f29bf769",
      "metadata": {
        "colab": {
          "base_uri": "https://localhost:8080/"
        },
        "id": "f29bf769",
        "outputId": "8ad8d124-c5cc-4ff2-d992-68d655986ed8"
      },
      "outputs": [
        {
          "output_type": "stream",
          "name": "stdout",
          "text": [
            "Weighted Average F1-Score: 0.9061555127259279\n",
            "Macro Average F1-Score: 0.8770841773714819\n"
          ]
        }
      ],
      "source": [
        "vectors_test = vectorizer.transform(newsgroups_test.data)\n",
        "clf = MultinomialNB(alpha=.01)\n",
        "clf.fit(vectors, newsgroups_train.new_target)\n",
        "pred = clf.predict(vectors_test)\n",
        "score1 = metrics.f1_score(newsgroups_test.new_target, pred, average='weighted')\n",
        "score2 = metrics.f1_score(newsgroups_test.new_target, pred, average='macro')\n",
        "\n",
        "print(\"Weighted Average F1-Score:\", score1)\n",
        "print(\"Macro Average F1-Score:\", score2)"
      ]
    },
    {
      "cell_type": "code",
      "execution_count": null,
      "id": "f9c17fb3",
      "metadata": {
        "colab": {
          "base_uri": "https://localhost:8080/"
        },
        "id": "f9c17fb3",
        "outputId": "ebc111d3-852f-42bf-d7bf-1902f507e96d"
      },
      "outputs": [
        {
          "output_type": "stream",
          "name": "stdout",
          "text": [
            "Religion: church com christians christian bible keith people jesus edu god\n",
            "Technology: host use thanks university organization subject lines com windows edu\n",
            "Other: lines condition distribution university new shipping offer 00 edu sale\n",
            "Recreation: subject organization game writes team article car ca com edu\n",
            "Science: article writes nasa chip encryption clipper space key com edu\n",
            "Politics: israeli government don article gun writes israel people com edu\n"
          ]
        }
      ],
      "source": [
        "def show_top10(classifier, vectorizer, categories):\n",
        "    feature_names = np.asarray(vectorizer.get_feature_names())\n",
        "    for i, category in enumerate(categories):\n",
        "        top10 = np.argsort(classifier.coef_[i])[-10:]\n",
        "        print(\"%s: %s\" % (category, \" \".join(feature_names[top10])))\n",
        "\n",
        "show_top10(clf, vectorizer, newsgroups_train.new_target_names)"
      ]
    },
    {
      "cell_type": "code",
      "execution_count": null,
      "id": "deaa5b18",
      "metadata": {
        "id": "deaa5b18"
      },
      "outputs": [],
      "source": []
    },
    {
      "cell_type": "code",
      "execution_count": null,
      "id": "eeb48d21",
      "metadata": {
        "colab": {
          "base_uri": "https://localhost:8080/"
        },
        "id": "eeb48d21",
        "outputId": "f5ad6e23-5b23-4a65-b9d2-f538ad8f0736"
      },
      "outputs": [
        {
          "output_type": "stream",
          "name": "stdout",
          "text": [
            "'God is love' => Religion\n",
            "'ChatGPT is useful for assignments' => Technology\n",
            "'Vote Jimmy for president' => Politics\n",
            "'I need a trip' => Recreation\n"
          ]
        }
      ],
      "source": [
        "docs_new = ['God is love', 'ChatGPT is useful for assignments', 'Vote Jimmy for president', 'I need a trip']\n",
        "X_new_counts = vectorizer.transform(docs_new)\n",
        "\n",
        "predicted = clf.predict(X_new_counts)\n",
        "\n",
        "for doc, category in zip(docs_new, predicted):\n",
        "     print('%r => %s' % (doc, newsgroups_train.new_target_names[category]))"
      ]
    },
    {
      "cell_type": "markdown",
      "id": "99da75f5",
      "metadata": {
        "id": "99da75f5"
      },
      "source": [
        "# SVM Model"
      ]
    },
    {
      "cell_type": "code",
      "execution_count": null,
      "id": "1bd35fc9",
      "metadata": {
        "colab": {
          "base_uri": "https://localhost:8080/"
        },
        "id": "1bd35fc9",
        "outputId": "2c6c3321-fd0e-4ab7-ac84-80295272e239"
      },
      "outputs": [
        {
          "output_type": "stream",
          "name": "stdout",
          "text": [
            "Weighted Average F1-Score: 0.912611928711664\n",
            "Macro Average F1-Score: 0.8992232049992123\n"
          ]
        }
      ],
      "source": [
        "# clf = SGDClassifier(loss='hinge', penalty='l2', alpha=1e-3, random_state=42, max_iter=5, tol=None)\n",
        "clf = SVC(kernel='linear', C=1, random_state=42)\n",
        "clf.fit(vectors, newsgroups_train.new_target)\n",
        "pred = clf.predict(vectors_test)\n",
        "score1 = metrics.f1_score(newsgroups_test.new_target, pred, average='weighted')\n",
        "score2 = metrics.f1_score(newsgroups_test.new_target, pred, average='macro')\n",
        "\n",
        "print(\"Weighted Average F1-Score:\", score1)\n",
        "print(\"Macro Average F1-Score:\", score2)"
      ]
    },
    {
      "cell_type": "code",
      "execution_count": null,
      "id": "11e3d208",
      "metadata": {
        "colab": {
          "base_uri": "https://localhost:8080/"
        },
        "id": "11e3d208",
        "outputId": "508fe83e-92e1-4891-ef1e-811a3b585cf5"
      },
      "outputs": [
        {
          "output_type": "stream",
          "name": "stdout",
          "text": [
            "Religion: 00\n",
            "Technology: 00\n",
            "Other: 00\n",
            "Recreation: 00\n",
            "Science: 00\n",
            "Politics: 00\n"
          ]
        }
      ],
      "source": [
        "def show_top10(classifier, vectorizer, categories):\n",
        "    feature_names = np.asarray(vectorizer.get_feature_names())\n",
        "    for i, category in enumerate(categories):\n",
        "        top10 = np.argsort(classifier.coef_[i])[-10:]\n",
        "        print(\"%s: %s\" % (category, \" \".join(feature_names[top10])))\n",
        "\n",
        "show_top10(clf, vectorizer, newsgroups_train.new_target_names)"
      ]
    },
    {
      "cell_type": "code",
      "execution_count": null,
      "id": "f089f697",
      "metadata": {
        "colab": {
          "base_uri": "https://localhost:8080/"
        },
        "id": "f089f697",
        "outputId": "92ac15cf-8618-4dcd-b992-2c7a0bc1fa0f"
      },
      "outputs": [
        {
          "output_type": "stream",
          "name": "stdout",
          "text": [
            "'God is love' => Religion\n",
            "'ChatGPT is useful for assignments' => Technology\n",
            "'Vote Jimmy for president' => Politics\n",
            "'I need a trip' => Technology\n"
          ]
        }
      ],
      "source": [
        "docs_new = ['God is love', 'ChatGPT is useful for assignments', 'Vote Jimmy for president', 'I need a trip']\n",
        "X_new_counts = vectorizer.transform(docs_new)\n",
        "\n",
        "predicted = clf.predict(X_new_counts)\n",
        "\n",
        "for doc, category in zip(docs_new, predicted):\n",
        "     print('%r => %s' % (doc, newsgroups_train.new_target_names[category]))"
      ]
    },
    {
      "cell_type": "markdown",
      "id": "eccbeca5",
      "metadata": {
        "id": "eccbeca5"
      },
      "source": [
        "# 3) Second Iteration of the model\n",
        "### (train based on data excluding headers/titles/subjects)"
      ]
    },
    {
      "cell_type": "code",
      "execution_count": null,
      "id": "7e23b06a",
      "metadata": {
        "id": "7e23b06a"
      },
      "outputs": [],
      "source": [
        "newsgroups_train_2 = fetch_20newsgroups(subset='train',remove=('headers', 'footers', 'quotes'))\n",
        "newsgroups_test_2 = fetch_20newsgroups(subset='test',remove=('headers', 'footers', 'quotes'))"
      ]
    },
    {
      "cell_type": "code",
      "execution_count": null,
      "id": "21265a96",
      "metadata": {
        "id": "21265a96"
      },
      "outputs": [],
      "source": [
        "new_target_list_train_2 = []\n",
        "new_target_list_test_2 = []\n",
        "curr_target_list_train_2 = newsgroups_train_2.target\n",
        "curr_target_list_test_2 = newsgroups_test_2.target\n",
        "target_names_new = [\"Religion\", \"Technology\", \"Other\", \"Recreation\", \"Science\", \"Politics\"]\n",
        "\n",
        "def target_transform(data):\n",
        "    output_list = []\n",
        "    for i in range(len(data)):\n",
        "        if data[i] in (0, 15):\n",
        "            output_list.append(0)\n",
        "        elif data[i] in (1, 2, 3, 4, 5, 12):\n",
        "            output_list.append(1)\n",
        "        elif data[i] == 6:\n",
        "            output_list.append(2)\n",
        "        elif data[i] in (7, 8, 9, 10):\n",
        "            output_list.append(3)\n",
        "        elif data[i] in (11, 13, 14):\n",
        "            output_list.append(4)\n",
        "        elif data[i] in (16, 17, 18, 19):\n",
        "            output_list.append(5)\n",
        "    return output_list\n",
        "\n",
        "new_target_list_train_2 = target_transform(curr_target_list_train_2)\n",
        "new_target_list_test_2 = target_transform(curr_target_list_test_2)\n",
        "\n",
        "newsgroups_train_2[\"new_target\"] = np.array(new_target_list_train_2)\n",
        "newsgroups_train_2[\"new_target_names\"] = np.array(target_names_new)\n",
        "newsgroups_test_2[\"new_target\"] = np.array(new_target_list_test_2)\n",
        "newsgroups_test_2[\"new_target_names\"] = np.array(target_names_new)"
      ]
    },
    {
      "cell_type": "code",
      "execution_count": null,
      "id": "e142e2f5",
      "metadata": {
        "colab": {
          "base_uri": "https://localhost:8080/"
        },
        "id": "e142e2f5",
        "outputId": "ff8a690e-9ad7-4da3-c28e-cd4e1628db85"
      },
      "outputs": [
        {
          "output_type": "execute_result",
          "data": {
            "text/plain": [
              "(11314, 101322)"
            ]
          },
          "metadata": {},
          "execution_count": 16
        }
      ],
      "source": [
        "#vectorize the data\n",
        "vectors_2 = vectorizer.fit_transform(newsgroups_train_2.data)\n",
        "vectors_2.shape"
      ]
    },
    {
      "cell_type": "markdown",
      "id": "2906ab22",
      "metadata": {
        "id": "2906ab22"
      },
      "source": [
        "## Multinomial NB model"
      ]
    },
    {
      "cell_type": "code",
      "execution_count": null,
      "id": "99ae545b",
      "metadata": {
        "colab": {
          "base_uri": "https://localhost:8080/"
        },
        "id": "99ae545b",
        "outputId": "d0131128-d95a-4b7b-8a6a-474cb2a63c6e"
      },
      "outputs": [
        {
          "output_type": "stream",
          "name": "stdout",
          "text": [
            "Weighted Average F1-Score: 0.8163039273316107\n",
            "Macro Average F1-Score: 0.7825500811273862\n"
          ]
        }
      ],
      "source": [
        "vectors_test_2 = vectorizer.transform(newsgroups_test_2.data)\n",
        "clf = MultinomialNB(alpha=.01)\n",
        "clf.fit(vectors_2, newsgroups_train_2.new_target)\n",
        "pred = clf.predict(vectors_test_2)\n",
        "score1 = metrics.f1_score(newsgroups_test_2.new_target, pred, average='weighted')\n",
        "score2 = metrics.f1_score(newsgroups_test_2.new_target, pred, average='macro')\n",
        "\n",
        "print(\"Weighted Average F1-Score:\", score1)\n",
        "print(\"Macro Average F1-Score:\", score2)"
      ]
    },
    {
      "cell_type": "code",
      "execution_count": null,
      "id": "8a567fd9",
      "metadata": {
        "colab": {
          "base_uri": "https://localhost:8080/"
        },
        "id": "8a567fd9",
        "outputId": "08411c74-eee9-4749-8327-f16542bf8be1"
      },
      "outputs": [
        {
          "output_type": "stream",
          "name": "stdout",
          "text": [
            "Religion: just say believe church don think bible people jesus god\n",
            "Technology: file drive problem card like does know use thanks windows\n",
            "Other: asking email sell price condition new shipping offer 00 sale\n",
            "Recreation: good think don bike like just year team game car\n",
            "Science: chip know like just don clipper people encryption space key\n",
            "Politics: like know did think gun government just israel don people\n"
          ]
        }
      ],
      "source": [
        "def show_top10(classifier, vectorizer, categories):\n",
        "    feature_names = np.asarray(vectorizer.get_feature_names())\n",
        "    for i, category in enumerate(categories):\n",
        "        top10 = np.argsort(classifier.coef_[i])[-10:]\n",
        "        print(\"%s: %s\" % (category, \" \".join(feature_names[top10])))\n",
        "\n",
        "show_top10(clf, vectorizer, newsgroups_train_2.new_target_names)"
      ]
    },
    {
      "cell_type": "code",
      "execution_count": null,
      "id": "8e0c4490",
      "metadata": {
        "colab": {
          "base_uri": "https://localhost:8080/"
        },
        "id": "8e0c4490",
        "outputId": "0f33cd8f-0724-419a-89a4-042771612c3b"
      },
      "outputs": [
        {
          "output_type": "stream",
          "name": "stdout",
          "text": [
            "'God is love' => Religion\n",
            "'ChatGPT is useful for assignments' => Science\n",
            "'Vote Jimmy for president' => Recreation\n",
            "'I need a trip' => Recreation\n"
          ]
        }
      ],
      "source": [
        "docs_new = ['God is love', 'ChatGPT is useful for assignments', 'Vote Jimmy for president', 'I need a trip']\n",
        "X_new_counts = vectorizer.transform(docs_new)\n",
        "\n",
        "predicted = clf.predict(X_new_counts)\n",
        "\n",
        "for doc, category in zip(docs_new, predicted):\n",
        "     print('%r => %s' % (doc, newsgroups_train.new_target_names[category]))"
      ]
    },
    {
      "cell_type": "markdown",
      "id": "43c42b99",
      "metadata": {
        "id": "43c42b99"
      },
      "source": [
        "## SVM model"
      ]
    },
    {
      "cell_type": "code",
      "execution_count": null,
      "id": "20498f9b",
      "metadata": {
        "colab": {
          "base_uri": "https://localhost:8080/"
        },
        "id": "20498f9b",
        "outputId": "0a8fbd2b-4dbd-48a7-e270-bfacae441b81"
      },
      "outputs": [
        {
          "output_type": "stream",
          "name": "stdout",
          "text": [
            "Weighted Average F1-Score: 0.795195286101736\n",
            "Macro Average F1-Score: 0.7745307883443774\n"
          ]
        }
      ],
      "source": [
        "# clf = SGDClassifier(loss='hinge', penalty='l2', alpha=1e-3, random_state=42, max_iter=5, tol=None)\n",
        "clf = SVC(kernel='linear', C=1, random_state=42)\n",
        "clf.fit(vectors_2, newsgroups_train_2.new_target)\n",
        "pred = clf.predict(vectors_test_2)\n",
        "score1 = metrics.f1_score(newsgroups_test_2.new_target, pred, average='weighted')\n",
        "score2 = metrics.f1_score(newsgroups_test_2.new_target, pred, average='macro')\n",
        "\n",
        "print(\"Weighted Average F1-Score:\", score1)\n",
        "print(\"Macro Average F1-Score:\", score2)"
      ]
    },
    {
      "cell_type": "code",
      "execution_count": null,
      "id": "89c38e8d",
      "metadata": {
        "id": "89c38e8d",
        "outputId": "3915791c-9436-4714-a149-0d7b0c2ce1bc"
      },
      "outputs": [
        {
          "name": "stderr",
          "output_type": "stream",
          "text": [
            "C:\\Users\\Cody\\anaconda3\\lib\\site-packages\\sklearn\\utils\\deprecation.py:87: FutureWarning: Function get_feature_names is deprecated; get_feature_names is deprecated in 1.0 and will be removed in 1.2. Please use get_feature_names_out instead.\n",
            "  warnings.warn(msg, category=FutureWarning)\n"
          ]
        },
        {
          "name": "stdout",
          "output_type": "stream",
          "text": [
            "Religion: 00\n",
            "Technology: 00\n",
            "Other: 00\n",
            "Recreation: 00\n",
            "Science: 00\n",
            "Politics: 00\n"
          ]
        }
      ],
      "source": [
        "def show_top10(classifier, vectorizer, categories):\n",
        "    feature_names = np.asarray(vectorizer.get_feature_names())\n",
        "    for i, category in enumerate(categories):\n",
        "        top10 = np.argsort(classifier.coef_[i])[-10:]\n",
        "        print(\"%s: %s\" % (category, \" \".join(feature_names[top10])))\n",
        "\n",
        "show_top10(clf, vectorizer, newsgroups_train_2.new_target_names)"
      ]
    },
    {
      "cell_type": "code",
      "execution_count": null,
      "id": "706e3e67",
      "metadata": {
        "id": "706e3e67",
        "outputId": "3c7eb5f2-820d-4d6e-8c38-cfd0c375abaa"
      },
      "outputs": [
        {
          "name": "stdout",
          "output_type": "stream",
          "text": [
            "'God is love' => Religion\n",
            "'ChatGPT is useful for assignments' => Technology\n",
            "'Vote Jimmy for president' => Recreation\n",
            "'I need a trip' => Recreation\n"
          ]
        }
      ],
      "source": [
        "docs_new = ['God is love', 'ChatGPT is useful for assignments', 'Vote Jimmy for president', 'I need a trip']\n",
        "X_new_counts = vectorizer.transform(docs_new)\n",
        "\n",
        "predicted = clf.predict(X_new_counts)\n",
        "\n",
        "for doc, category in zip(docs_new, predicted):\n",
        "     print('%r => %s' % (doc, newsgroups_train.new_target_names[category]))"
      ]
    },
    {
      "cell_type": "code",
      "execution_count": null,
      "id": "2f7f5020",
      "metadata": {
        "id": "2f7f5020"
      },
      "outputs": [],
      "source": []
    },
    {
      "cell_type": "code",
      "execution_count": null,
      "id": "0732c7ae",
      "metadata": {
        "id": "0732c7ae"
      },
      "outputs": [],
      "source": []
    },
    {
      "cell_type": "code",
      "execution_count": null,
      "id": "502e44f4",
      "metadata": {
        "id": "502e44f4"
      },
      "outputs": [],
      "source": []
    }
  ],
  "metadata": {
    "kernelspec": {
      "display_name": "Python 3 (ipykernel)",
      "language": "python",
      "name": "python3"
    },
    "language_info": {
      "codemirror_mode": {
        "name": "ipython",
        "version": 3
      },
      "file_extension": ".py",
      "mimetype": "text/x-python",
      "name": "python",
      "nbconvert_exporter": "python",
      "pygments_lexer": "ipython3",
      "version": "3.9.12"
    },
    "colab": {
      "provenance": [],
      "include_colab_link": true
    }
  },
  "nbformat": 4,
  "nbformat_minor": 5
}