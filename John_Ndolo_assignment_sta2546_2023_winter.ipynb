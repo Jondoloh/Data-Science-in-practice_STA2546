{
 "cells": [
  {
   "cell_type": "markdown",
   "id": "127b0472",
   "metadata": {},
   "source": [
    "\n",
    "<center>  \n",
    " John Ndolo\n",
    "    \n",
    " \n",
    "   <center>\n",
    " Assignment 1\n",
    " </center>"
   ]
  },
  {
   "cell_type": "markdown",
   "id": "ab1c1aad",
   "metadata": {},
   "source": [
    "# 1. Grading criteria"
   ]
  },
  {
   "cell_type": "markdown",
   "id": "28425f48",
   "metadata": {},
   "source": [
    "1. Correctness of code (60%).\n",
    "2. Quality and efficiency of the code (30%) --> Can scale and tackle edge cases.\n",
    "3. Presentation of the document (10%) --> Readability and intuitiveness."
   ]
  },
  {
   "cell_type": "markdown",
   "id": "1d848ffc",
   "metadata": {},
   "source": [
    "# 2. Problem 1"
   ]
  },
  {
   "cell_type": "markdown",
   "id": "3a6c4772",
   "metadata": {},
   "source": [
    "Assume you have two tables:\n",
    "\n",
    "Table 1: student names.\n",
    "\n",
    "| student_id      | first_name     | last_name      |\n",
    "| --------------- | ---------------| ---------------|\n",
    "| 1               | Alice          | Jones          |\n",
    "| 2               | Andy           | Jackson        |\n",
    "\n",
    "Table 2: student grades.\n",
    "\n",
    "| student_id      | date           | gpa            |\n",
    "| --------------- | ---------------| ---------------|\n",
    "| 1               | 2022-01-01     | NULL           |\n",
    "| 1               | 2022-04-01     | 0.80           |\n",
    "| 1               | 2022-08-01     | 0.83           |\n",
    "| 2               | 2021-01-01     | 0.83           |\n",
    "| 2               | 2021-04-01     | 0.84           |\n",
    "| 2               | 2021-08-01     | 0.82           |\n",
    "\n",
    "The goal is to query the above tables and produce the following table (ordered by student_id):\n",
    "\n",
    "| student_id      | full_name      | most_recent_gpa|\n",
    "| --------------- | ---------------| ---------------|\n",
    "| 1               | Alice Jones    | 0.83           |\n",
    "| 2               | Andy  Jackson  | 0.82           |\n",
    "\n",
    "Tasks:\n",
    "\n",
    "1. Create a Jupyter Notebook that creates the above input tables using pandas.\n",
    "2. In Jupyter, use pandas to create the output table.\n",
    "3. In Jupyter, use sqlite3 to create the database and the output table."
   ]
  },
  {
   "cell_type": "markdown",
   "id": "ae16ec22",
   "metadata": {},
   "source": [
    "# Solution to Problem 1"
   ]
  },
  {
   "cell_type": "code",
   "execution_count": 4,
   "id": "2fb97ecd",
   "metadata": {},
   "outputs": [],
   "source": [
    "#!pip install Levenshtein"
   ]
  },
  {
   "cell_type": "markdown",
   "id": "6682eacc",
   "metadata": {},
   "source": [
    "### 1. importing dependence libraries"
   ]
  },
  {
   "cell_type": "code",
   "execution_count": 1,
   "id": "2d07bdf7",
   "metadata": {},
   "outputs": [],
   "source": [
    "import os\n",
    "import numpy as np\n",
    "import pandas as pd\n",
    "\n",
    "import sqlite3\n",
    "database_path = \"\"\n",
    "\n",
    "import re\n",
    "from Levenshtein import ratio\n",
    "import requests\n",
    "import io\n",
    "\n",
    "import warnings\n",
    "warnings.filterwarnings('ignore')\n"
   ]
  },
  {
   "cell_type": "code",
   "execution_count": 2,
   "id": "9082de77",
   "metadata": {},
   "outputs": [],
   "source": [
    "%%capture\n",
    "%load_ext sql"
   ]
  },
  {
   "cell_type": "markdown",
   "id": "8d60cb4c",
   "metadata": {},
   "source": [
    "### 2. Pandas dataframes"
   ]
  },
  {
   "cell_type": "markdown",
   "id": "6d4c61df",
   "metadata": {},
   "source": [
    "#### Task1 : Jupyter Notebook that creates the above input tables using pandas"
   ]
  },
  {
   "cell_type": "code",
   "execution_count": 3,
   "id": "1148d8b1",
   "metadata": {},
   "outputs": [
    {
     "data": {
      "text/html": [
       "<div>\n",
       "<style scoped>\n",
       "    .dataframe tbody tr th:only-of-type {\n",
       "        vertical-align: middle;\n",
       "    }\n",
       "\n",
       "    .dataframe tbody tr th {\n",
       "        vertical-align: top;\n",
       "    }\n",
       "\n",
       "    .dataframe thead th {\n",
       "        text-align: right;\n",
       "    }\n",
       "</style>\n",
       "<table border=\"1\" class=\"dataframe\">\n",
       "  <thead>\n",
       "    <tr style=\"text-align: right;\">\n",
       "      <th></th>\n",
       "      <th>student_id</th>\n",
       "      <th>first_name</th>\n",
       "      <th>last_name</th>\n",
       "    </tr>\n",
       "  </thead>\n",
       "  <tbody>\n",
       "    <tr>\n",
       "      <th>0</th>\n",
       "      <td>1</td>\n",
       "      <td>Alice</td>\n",
       "      <td>Jones</td>\n",
       "    </tr>\n",
       "    <tr>\n",
       "      <th>1</th>\n",
       "      <td>2</td>\n",
       "      <td>Andy</td>\n",
       "      <td>Jackson</td>\n",
       "    </tr>\n",
       "  </tbody>\n",
       "</table>\n",
       "</div>"
      ],
      "text/plain": [
       "   student_id first_name last_name\n",
       "0           1      Alice     Jones\n",
       "1           2       Andy   Jackson"
      ]
     },
     "execution_count": 3,
     "metadata": {},
     "output_type": "execute_result"
    }
   ],
   "source": [
    "# Table 1: student names\n",
    "data = {'student_id': [1, 2],\n",
    "        'first_name': ['Alice', 'Andy'],\n",
    "        'last_name': ['Jones', 'Jackson']}\n",
    "\n",
    "df_student_names = pd.DataFrame(data)\n",
    "df_student_names"
   ]
  },
  {
   "cell_type": "code",
   "execution_count": 4,
   "id": "a6f49dd6",
   "metadata": {},
   "outputs": [
    {
     "data": {
      "text/html": [
       "<div>\n",
       "<style scoped>\n",
       "    .dataframe tbody tr th:only-of-type {\n",
       "        vertical-align: middle;\n",
       "    }\n",
       "\n",
       "    .dataframe tbody tr th {\n",
       "        vertical-align: top;\n",
       "    }\n",
       "\n",
       "    .dataframe thead th {\n",
       "        text-align: right;\n",
       "    }\n",
       "</style>\n",
       "<table border=\"1\" class=\"dataframe\">\n",
       "  <thead>\n",
       "    <tr style=\"text-align: right;\">\n",
       "      <th></th>\n",
       "      <th>student_id</th>\n",
       "      <th>date</th>\n",
       "      <th>gpa</th>\n",
       "    </tr>\n",
       "  </thead>\n",
       "  <tbody>\n",
       "    <tr>\n",
       "      <th>0</th>\n",
       "      <td>1</td>\n",
       "      <td>2022-01-01</td>\n",
       "      <td>NULL</td>\n",
       "    </tr>\n",
       "    <tr>\n",
       "      <th>1</th>\n",
       "      <td>1</td>\n",
       "      <td>2022-04-01</td>\n",
       "      <td>0.8</td>\n",
       "    </tr>\n",
       "    <tr>\n",
       "      <th>2</th>\n",
       "      <td>1</td>\n",
       "      <td>2022-08-01</td>\n",
       "      <td>0.83</td>\n",
       "    </tr>\n",
       "    <tr>\n",
       "      <th>3</th>\n",
       "      <td>2</td>\n",
       "      <td>2021-01-01</td>\n",
       "      <td>0.83</td>\n",
       "    </tr>\n",
       "    <tr>\n",
       "      <th>4</th>\n",
       "      <td>2</td>\n",
       "      <td>2021-04-01</td>\n",
       "      <td>0.84</td>\n",
       "    </tr>\n",
       "    <tr>\n",
       "      <th>5</th>\n",
       "      <td>2</td>\n",
       "      <td>2021-08-01</td>\n",
       "      <td>0.82</td>\n",
       "    </tr>\n",
       "  </tbody>\n",
       "</table>\n",
       "</div>"
      ],
      "text/plain": [
       "   student_id        date   gpa\n",
       "0           1  2022-01-01  NULL\n",
       "1           1  2022-04-01   0.8\n",
       "2           1  2022-08-01  0.83\n",
       "3           2  2021-01-01  0.83\n",
       "4           2  2021-04-01  0.84\n",
       "5           2  2021-08-01  0.82"
      ]
     },
     "execution_count": 4,
     "metadata": {},
     "output_type": "execute_result"
    }
   ],
   "source": [
    "# Table 2: student grades\n",
    "data = {'student_id': [1, 1, 1, 2, 2, 2],\n",
    "        'date': ['2022-01-01', '2022-04-01', '2022-08-01', '2021-01-01', '2021-04-01', '2021-08-01'],\n",
    "        'gpa': ['NULL', 0.80, 0.83, 0.83, 0.84, 0.82]}\n",
    "\n",
    "df_student_grades = pd.DataFrame(data)\n",
    "df_student_grades"
   ]
  },
  {
   "cell_type": "markdown",
   "id": "5e7a0a6b",
   "metadata": {},
   "source": [
    "#### Task2 : using pandas to create the output table."
   ]
  },
  {
   "cell_type": "code",
   "execution_count": 6,
   "id": "bea1a70d",
   "metadata": {},
   "outputs": [
    {
     "data": {
      "text/html": [
       "<div>\n",
       "<style scoped>\n",
       "    .dataframe tbody tr th:only-of-type {\n",
       "        vertical-align: middle;\n",
       "    }\n",
       "\n",
       "    .dataframe tbody tr th {\n",
       "        vertical-align: top;\n",
       "    }\n",
       "\n",
       "    .dataframe thead th {\n",
       "        text-align: right;\n",
       "    }\n",
       "</style>\n",
       "<table border=\"1\" class=\"dataframe\">\n",
       "  <thead>\n",
       "    <tr style=\"text-align: right;\">\n",
       "      <th></th>\n",
       "      <th>student_id</th>\n",
       "      <th>first_name</th>\n",
       "      <th>last_name</th>\n",
       "      <th>date</th>\n",
       "      <th>gpa</th>\n",
       "    </tr>\n",
       "  </thead>\n",
       "  <tbody>\n",
       "    <tr>\n",
       "      <th>0</th>\n",
       "      <td>1</td>\n",
       "      <td>Alice</td>\n",
       "      <td>Jones</td>\n",
       "      <td>2022-08-01</td>\n",
       "      <td>0.83</td>\n",
       "    </tr>\n",
       "    <tr>\n",
       "      <th>1</th>\n",
       "      <td>2</td>\n",
       "      <td>Andy</td>\n",
       "      <td>Jackson</td>\n",
       "      <td>2021-08-01</td>\n",
       "      <td>0.82</td>\n",
       "    </tr>\n",
       "  </tbody>\n",
       "</table>\n",
       "</div>"
      ],
      "text/plain": [
       "   student_id first_name last_name        date   gpa\n",
       "0           1      Alice     Jones  2022-08-01  0.83\n",
       "1           2       Andy   Jackson  2021-08-01  0.82"
      ]
     },
     "execution_count": 6,
     "metadata": {},
     "output_type": "execute_result"
    }
   ],
   "source": [
    "# Join tables on student_id and select most recent gpa \n",
    "output_table = (pd.merge(df_student_names, df_student_grades, on='student_id')\n",
    "                .sort_values(by=['student_id', 'date'], ascending=[True, False])\n",
    "                .drop_duplicates(subset='student_id'))\n",
    "\n",
    "output_table.reset_index(drop = True)"
   ]
  },
  {
   "cell_type": "code",
   "execution_count": 8,
   "id": "0497ce52",
   "metadata": {},
   "outputs": [
    {
     "data": {
      "text/html": [
       "<div>\n",
       "<style scoped>\n",
       "    .dataframe tbody tr th:only-of-type {\n",
       "        vertical-align: middle;\n",
       "    }\n",
       "\n",
       "    .dataframe tbody tr th {\n",
       "        vertical-align: top;\n",
       "    }\n",
       "\n",
       "    .dataframe thead th {\n",
       "        text-align: right;\n",
       "    }\n",
       "</style>\n",
       "<table border=\"1\" class=\"dataframe\">\n",
       "  <thead>\n",
       "    <tr style=\"text-align: right;\">\n",
       "      <th></th>\n",
       "      <th>student_id</th>\n",
       "      <th>first_name</th>\n",
       "      <th>last_name</th>\n",
       "      <th>date</th>\n",
       "      <th>gpa</th>\n",
       "      <th>full_name</th>\n",
       "    </tr>\n",
       "  </thead>\n",
       "  <tbody>\n",
       "    <tr>\n",
       "      <th>0</th>\n",
       "      <td>1</td>\n",
       "      <td>Alice</td>\n",
       "      <td>Jones</td>\n",
       "      <td>2022-08-01</td>\n",
       "      <td>0.83</td>\n",
       "      <td>Alice Jones</td>\n",
       "    </tr>\n",
       "    <tr>\n",
       "      <th>1</th>\n",
       "      <td>2</td>\n",
       "      <td>Andy</td>\n",
       "      <td>Jackson</td>\n",
       "      <td>2021-08-01</td>\n",
       "      <td>0.82</td>\n",
       "      <td>Andy Jackson</td>\n",
       "    </tr>\n",
       "  </tbody>\n",
       "</table>\n",
       "</div>"
      ],
      "text/plain": [
       "   student_id first_name last_name        date   gpa     full_name\n",
       "0           1      Alice     Jones  2022-08-01  0.83   Alice Jones\n",
       "1           2       Andy   Jackson  2021-08-01  0.82  Andy Jackson"
      ]
     },
     "execution_count": 8,
     "metadata": {},
     "output_type": "execute_result"
    }
   ],
   "source": [
    "# Add full_name column\n",
    "output_table['full_name'] = output_table['first_name'] + ' ' + output_table['last_name']\n",
    "\n",
    "output_table.reset_index(drop = True)"
   ]
  },
  {
   "cell_type": "code",
   "execution_count": 9,
   "id": "9c0703ec",
   "metadata": {
    "scrolled": true
   },
   "outputs": [
    {
     "data": {
      "text/html": [
       "<div>\n",
       "<style scoped>\n",
       "    .dataframe tbody tr th:only-of-type {\n",
       "        vertical-align: middle;\n",
       "    }\n",
       "\n",
       "    .dataframe tbody tr th {\n",
       "        vertical-align: top;\n",
       "    }\n",
       "\n",
       "    .dataframe thead th {\n",
       "        text-align: right;\n",
       "    }\n",
       "</style>\n",
       "<table border=\"1\" class=\"dataframe\">\n",
       "  <thead>\n",
       "    <tr style=\"text-align: right;\">\n",
       "      <th></th>\n",
       "      <th>student_id</th>\n",
       "      <th>full_name</th>\n",
       "      <th>most_recent_gpa</th>\n",
       "    </tr>\n",
       "  </thead>\n",
       "  <tbody>\n",
       "    <tr>\n",
       "      <th>0</th>\n",
       "      <td>1</td>\n",
       "      <td>Alice Jones</td>\n",
       "      <td>0.83</td>\n",
       "    </tr>\n",
       "    <tr>\n",
       "      <th>1</th>\n",
       "      <td>2</td>\n",
       "      <td>Andy Jackson</td>\n",
       "      <td>0.82</td>\n",
       "    </tr>\n",
       "  </tbody>\n",
       "</table>\n",
       "</div>"
      ],
      "text/plain": [
       "   student_id     full_name most_recent_gpa\n",
       "0           1   Alice Jones            0.83\n",
       "1           2  Andy Jackson            0.82"
      ]
     },
     "execution_count": 9,
     "metadata": {},
     "output_type": "execute_result"
    }
   ],
   "source": [
    "# Select only necessary columns and reorder them\n",
    "output_table = output_table[['student_id', 'full_name', 'gpa']].rename(columns = {'gpa':'most_recent_gpa'})\n",
    "output_table.reset_index(drop=True)"
   ]
  },
  {
   "cell_type": "markdown",
   "id": "f7195b43",
   "metadata": {},
   "source": [
    "#### Task3: Using sqlite3 to create the database and the output table."
   ]
  },
  {
   "cell_type": "code",
   "execution_count": 10,
   "id": "60685925",
   "metadata": {},
   "outputs": [],
   "source": [
    "if os.path.isfile(\"students.db\"):\n",
    "    os.remove(\"students.db\")\n",
    "conn = sqlite3.connect(\"students.db\")\n",
    "df_student_names.to_sql(\"student_names\", conn, if_exists=\"replace\", index=False)\n",
    "df_student_grades.to_sql(\"student_grades\", conn, if_exists=\"replace\", index=False)\n",
    "#df_student_degrees.to_sql(\"student_degrees\", conn, if_exists=\"replace\", index=False)\n",
    "conn.close()"
   ]
  },
  {
   "cell_type": "code",
   "execution_count": 11,
   "id": "053590d1",
   "metadata": {},
   "outputs": [
    {
     "name": "stdout",
     "output_type": "stream",
     "text": [
      "Done.\n"
     ]
    },
    {
     "data": {
      "text/html": [
       "<table>\n",
       "    <tr>\n",
       "        <th>student_id</th>\n",
       "        <th>first_name</th>\n",
       "        <th>last_name</th>\n",
       "    </tr>\n",
       "    <tr>\n",
       "        <td>1</td>\n",
       "        <td>Alice</td>\n",
       "        <td>Jones</td>\n",
       "    </tr>\n",
       "    <tr>\n",
       "        <td>2</td>\n",
       "        <td>Andy</td>\n",
       "        <td>Jackson</td>\n",
       "    </tr>\n",
       "</table>"
      ],
      "text/plain": [
       "[(1, 'Alice', 'Jones'), (2, 'Andy', 'Jackson')]"
      ]
     },
     "execution_count": 11,
     "metadata": {},
     "output_type": "execute_result"
    }
   ],
   "source": [
    "%%sql sqlite:///students.db\n",
    "/* selecting the entire table*/\n",
    "SELECT * FROM STUDENT_NAMES;"
   ]
  },
  {
   "cell_type": "code",
   "execution_count": 12,
   "id": "736e389b",
   "metadata": {
    "scrolled": true
   },
   "outputs": [
    {
     "name": "stdout",
     "output_type": "stream",
     "text": [
      "Done.\n"
     ]
    },
    {
     "data": {
      "text/html": [
       "<table>\n",
       "    <tr>\n",
       "        <th>student_id</th>\n",
       "        <th>date</th>\n",
       "        <th>gpa</th>\n",
       "    </tr>\n",
       "    <tr>\n",
       "        <td>1</td>\n",
       "        <td>2022-01-01</td>\n",
       "        <td>NULL</td>\n",
       "    </tr>\n",
       "    <tr>\n",
       "        <td>1</td>\n",
       "        <td>2022-04-01</td>\n",
       "        <td>0.8</td>\n",
       "    </tr>\n",
       "    <tr>\n",
       "        <td>1</td>\n",
       "        <td>2022-08-01</td>\n",
       "        <td>0.83</td>\n",
       "    </tr>\n",
       "    <tr>\n",
       "        <td>2</td>\n",
       "        <td>2021-01-01</td>\n",
       "        <td>0.83</td>\n",
       "    </tr>\n",
       "    <tr>\n",
       "        <td>2</td>\n",
       "        <td>2021-04-01</td>\n",
       "        <td>0.84</td>\n",
       "    </tr>\n",
       "    <tr>\n",
       "        <td>2</td>\n",
       "        <td>2021-08-01</td>\n",
       "        <td>0.82</td>\n",
       "    </tr>\n",
       "</table>"
      ],
      "text/plain": [
       "[(1, '2022-01-01', 'NULL'),\n",
       " (1, '2022-04-01', '0.8'),\n",
       " (1, '2022-08-01', '0.83'),\n",
       " (2, '2021-01-01', '0.83'),\n",
       " (2, '2021-04-01', '0.84'),\n",
       " (2, '2021-08-01', '0.82')]"
      ]
     },
     "execution_count": 12,
     "metadata": {},
     "output_type": "execute_result"
    }
   ],
   "source": [
    "%%sql sqlite:///students.db\n",
    "/* selecting the entire table*/\n",
    "SELECT * FROM STUDENT_GRADES;"
   ]
  },
  {
   "cell_type": "code",
   "execution_count": 13,
   "id": "cac6a299",
   "metadata": {},
   "outputs": [
    {
     "name": "stdout",
     "output_type": "stream",
     "text": [
      "Done.\n"
     ]
    },
    {
     "data": {
      "text/html": [
       "<table>\n",
       "    <tr>\n",
       "        <th>student_id</th>\n",
       "        <th>full_name</th>\n",
       "        <th>most_recent_gpa</th>\n",
       "    </tr>\n",
       "    <tr>\n",
       "        <td>1</td>\n",
       "        <td>Alice Jones</td>\n",
       "        <td>0.83</td>\n",
       "    </tr>\n",
       "    <tr>\n",
       "        <td>2</td>\n",
       "        <td>Andy Jackson</td>\n",
       "        <td>0.82</td>\n",
       "    </tr>\n",
       "</table>"
      ],
      "text/plain": [
       "[(1, 'Alice Jones', '0.83'), (2, 'Andy Jackson', '0.82')]"
      ]
     },
     "execution_count": 13,
     "metadata": {},
     "output_type": "execute_result"
    }
   ],
   "source": [
    "%%sql sqlite:///students.db\n",
    "\n",
    "SELECT student_names.student_id, \n",
    "       first_name || ' ' || last_name as full_name, \n",
    "       (SELECT gpa FROM student_grades WHERE student_id = student_names.student_id ORDER BY date DESC) #DESC--->descending \n",
    "        as most_recent_gpa\n",
    "        \n",
    "FROM student_names\n",
    "ORDER BY student_names.student_id"
   ]
  },
  {
   "cell_type": "markdown",
   "id": "cf943307",
   "metadata": {},
   "source": [
    "# 3. Problem 2"
   ]
  },
  {
   "cell_type": "markdown",
   "id": "f1ba9833",
   "metadata": {},
   "source": [
    "You are tasked to do a fuzzy string matching exercise for a start-up. You are given an internal CSV file \"internal_company_data.csv\" and an external file (source: https://open.canada.ca/data/en/dataset/c1bb15bd-0b4d-484c-a813-857b167d8d00 Links to an external site) \"regulated_company_list.csv\".\n",
    "\n",
    "Using the Levenshtein ratio (info: https://en.wikipedia.org/wiki/Levenshtein_distance Links to an external site.; library: https://pypi.org/project/python-Levenshtein/ Links to an external site.), write a function in Python that provides the closest matches for internal company to those found in the regulated-company-list. Include the following fields:\n",
    "\n",
    "| id              | company_name_internal | company_name_closest_match | score   | accountable_officer |\n",
    "| --------------- | --------------------- | -------------------------- | --------| ------------------- |\n",
    "|                 |                       |                            |         |                     |\n",
    "|                 |                       |                            |         |                     |\n",
    "\n",
    "\n",
    "Before this function, write a function that cleans company name (internal and regulated) in the following manner:\n",
    "\n",
    "1. Convert all characters to lower case.\n",
    "\n",
    "2. Punctuation: Remove the following characters = [\".\",  \",\"]\n",
    "\n",
    "3. Stop words: Remove the following words from the name [\"corporation\", \"limited\", \"ltd\", \"inc\", \"national\", \"international\", \"company\", \"ulc\"]\n",
    "\n",
    "Examples --> clean(\"AAaa123\") == \"aaaa123\"; clean(\"A corporation limited ltd, national international, company, ulc. boy\") == \"a boy\"\n",
    "\n",
    "\n",
    "Once done, feed this into the Levenshtein score."
   ]
  },
  {
   "cell_type": "markdown",
   "id": "b3ba45e8",
   "metadata": {},
   "source": [
    "# Solution to problem 2"
   ]
  },
  {
   "cell_type": "markdown",
   "id": "e8b03169",
   "metadata": {},
   "source": [
    "### Task 1: Loading the datasets"
   ]
  },
  {
   "cell_type": "code",
   "execution_count": 27,
   "id": "6b4209f7",
   "metadata": {
    "scrolled": false
   },
   "outputs": [
    {
     "data": {
      "text/html": [
       "<div>\n",
       "<style scoped>\n",
       "    .dataframe tbody tr th:only-of-type {\n",
       "        vertical-align: middle;\n",
       "    }\n",
       "\n",
       "    .dataframe tbody tr th {\n",
       "        vertical-align: top;\n",
       "    }\n",
       "\n",
       "    .dataframe thead th {\n",
       "        text-align: right;\n",
       "    }\n",
       "</style>\n",
       "<table border=\"1\" class=\"dataframe\">\n",
       "  <thead>\n",
       "    <tr style=\"text-align: right;\">\n",
       "      <th></th>\n",
       "      <th>id</th>\n",
       "      <th>company_name</th>\n",
       "    </tr>\n",
       "  </thead>\n",
       "  <tbody>\n",
       "    <tr>\n",
       "      <th>0</th>\n",
       "      <td>1</td>\n",
       "      <td>Foothills Pipe Lines</td>\n",
       "    </tr>\n",
       "    <tr>\n",
       "      <th>1</th>\n",
       "      <td>2</td>\n",
       "      <td>PKM Cochin</td>\n",
       "    </tr>\n",
       "    <tr>\n",
       "      <th>2</th>\n",
       "      <td>3</td>\n",
       "      <td>Maritimes and Northeast Pipeline</td>\n",
       "    </tr>\n",
       "    <tr>\n",
       "      <th>3</th>\n",
       "      <td>4</td>\n",
       "      <td>NOVA Gas Transmission</td>\n",
       "    </tr>\n",
       "    <tr>\n",
       "      <th>4</th>\n",
       "      <td>5</td>\n",
       "      <td>Trans Mountain Pipeline</td>\n",
       "    </tr>\n",
       "  </tbody>\n",
       "</table>\n",
       "</div>"
      ],
      "text/plain": [
       "   id                      company_name\n",
       "0   1              Foothills Pipe Lines\n",
       "1   2                        PKM Cochin\n",
       "2   3  Maritimes and Northeast Pipeline\n",
       "3   4             NOVA Gas Transmission\n",
       "4   5           Trans Mountain Pipeline"
      ]
     },
     "execution_count": 27,
     "metadata": {},
     "output_type": "execute_result"
    }
   ],
   "source": [
    "#Internal dataset\n",
    "internal_company_data = pd.read_csv('internal_company_data.csv')\n",
    "internal_company_data.head()"
   ]
  },
  {
   "cell_type": "code",
   "execution_count": 28,
   "id": "5120b58c",
   "metadata": {
    "scrolled": true
   },
   "outputs": [
    {
     "data": {
      "text/html": [
       "<div>\n",
       "<style scoped>\n",
       "    .dataframe tbody tr th:only-of-type {\n",
       "        vertical-align: middle;\n",
       "    }\n",
       "\n",
       "    .dataframe tbody tr th {\n",
       "        vertical-align: top;\n",
       "    }\n",
       "\n",
       "    .dataframe thead th {\n",
       "        text-align: right;\n",
       "    }\n",
       "</style>\n",
       "<table border=\"1\" class=\"dataframe\">\n",
       "  <thead>\n",
       "    <tr style=\"text-align: right;\">\n",
       "      <th></th>\n",
       "      <th>Company</th>\n",
       "      <th>Company Website</th>\n",
       "      <th>Contact Information</th>\n",
       "      <th>Accountable Officer</th>\n",
       "    </tr>\n",
       "  </thead>\n",
       "  <tbody>\n",
       "    <tr>\n",
       "      <th>0</th>\n",
       "      <td>Group 1</td>\n",
       "      <td>NaN</td>\n",
       "      <td>NaN</td>\n",
       "      <td>NaN</td>\n",
       "    </tr>\n",
       "    <tr>\n",
       "      <th>1</th>\n",
       "      <td>NaN</td>\n",
       "      <td>NaN</td>\n",
       "      <td>NaN</td>\n",
       "      <td>NaN</td>\n",
       "    </tr>\n",
       "    <tr>\n",
       "      <th>2</th>\n",
       "      <td>Alliance Pipeline Ltd.</td>\n",
       "      <td>https://www.alliancepipeline.com/Pages/default...</td>\n",
       "      <td>NaN</td>\n",
       "      <td>Cynthia Hansen</td>\n",
       "    </tr>\n",
       "    <tr>\n",
       "      <th>3</th>\n",
       "      <td>Enbridge Pipelines (NW) Inc.</td>\n",
       "      <td>https://www.enbridge.com/</td>\n",
       "      <td>NaN</td>\n",
       "      <td>Colin Gruending</td>\n",
       "    </tr>\n",
       "    <tr>\n",
       "      <th>4</th>\n",
       "      <td>Enbridge Pipelines Inc.</td>\n",
       "      <td>https://www.enbridge.com/</td>\n",
       "      <td>NaN</td>\n",
       "      <td>Colin Gruending</td>\n",
       "    </tr>\n",
       "  </tbody>\n",
       "</table>\n",
       "</div>"
      ],
      "text/plain": [
       "                        Company  \\\n",
       "0                       Group 1   \n",
       "1                           NaN   \n",
       "2        Alliance Pipeline Ltd.   \n",
       "3  Enbridge Pipelines (NW) Inc.   \n",
       "4       Enbridge Pipelines Inc.   \n",
       "\n",
       "                                     Company Website Contact Information  \\\n",
       "0                                                NaN                 NaN   \n",
       "1                                                NaN                 NaN   \n",
       "2  https://www.alliancepipeline.com/Pages/default...                 NaN   \n",
       "3                          https://www.enbridge.com/                 NaN   \n",
       "4                          https://www.enbridge.com/                 NaN   \n",
       "\n",
       "  Accountable Officer  \n",
       "0                 NaN  \n",
       "1                 NaN  \n",
       "2      Cynthia Hansen  \n",
       "3     Colin Gruending  \n",
       "4     Colin Gruending  "
      ]
     },
     "execution_count": 28,
     "metadata": {},
     "output_type": "execute_result"
    }
   ],
   "source": [
    "#extrenal dataset\n",
    "path = \"https://www.cer-rec.gc.ca/open/adjudication/regulated-company-list.csv\"\n",
    "regulated_company_list= pd.read_csv(path, encoding='ISO-8859-1')\n",
    "regulated_company_list.head()"
   ]
  },
  {
   "cell_type": "markdown",
   "id": "e1624601",
   "metadata": {},
   "source": [
    "### Task 2: The function to clean the datasets"
   ]
  },
  {
   "cell_type": "code",
   "execution_count": 29,
   "id": "b4704bcd",
   "metadata": {},
   "outputs": [],
   "source": [
    "def clean(name):\n",
    "    if type(name)==str:\n",
    "        # Convert to lower case\n",
    "        name = name.lower()\n",
    "        # Remove punctuation\n",
    "        name = re.sub(r'[.,]', '', name)\n",
    "        # Remove stop words\n",
    "        stop_words = [\"corporation\", \"limited\", \"ltd\", \"inc\", \"national\", \"international\", \"company\", \"ulc\"]\n",
    "        name = \" \".join([word for word in name.split() if word not in stop_words])\n",
    "    return name\n"
   ]
  },
  {
   "cell_type": "code",
   "execution_count": 30,
   "id": "600923e8",
   "metadata": {},
   "outputs": [
    {
     "data": {
      "text/plain": [
       "'a boy'"
      ]
     },
     "execution_count": 30,
     "metadata": {},
     "output_type": "execute_result"
    }
   ],
   "source": [
    "#Example\n",
    "clean(\"A corporation limited ltd, national international, company, ulc. boy\")"
   ]
  },
  {
   "cell_type": "markdown",
   "id": "76ddbd1e",
   "metadata": {},
   "source": [
    "### Task 3: Function providing the closest matches for internal company to those  in the regulated-company-list"
   ]
  },
  {
   "cell_type": "code",
   "execution_count": 31,
   "id": "388ae7c1",
   "metadata": {},
   "outputs": [],
   "source": [
    "def closest_match(internal_file, regulated_file):\n",
    "    internal_file[\"company_name\"] = internal_file[\"company_name\"].apply(clean)\n",
    "    regulated_file[\"Company\"] = regulated_file[\"Company\"].apply(clean)\n",
    "    matches_df = pd.DataFrame(columns=[\"id\", \"company_name_internal\",\n",
    "                                       \"company_name_closest_match\", \"score\", \"accountable_officer\"])\n",
    "    \n",
    "    for index, row in internal_file.iterrows():\n",
    "        closest_match = \"\"\n",
    "        closest_score = 0 #assumming no match as an initialization\n",
    "        closest_officer = \"\"\n",
    "        for index2, row2 in regulated_file.iterrows():\n",
    "            score = ratio(row[\"company_name\"], row2[\"Company\"])\n",
    "            if score > closest_score:\n",
    "                closest_score = score\n",
    "                closest_match = row2[\"Company\"]\n",
    "                closest_officer = row2[\"Accountable Officer\"]\n",
    "        matches_df = matches_df.append(\n",
    "            {\n",
    "                \"id\": row[\"id\"],\n",
    "                \"company_name_internal\": row[\"company_name\"],\n",
    "                \"company_name_closest_match\": closest_match,\n",
    "                \"score\": closest_score,\n",
    "                \"accountable_officer\": closest_officer\n",
    "            },\n",
    "            ignore_index=True\n",
    "        )\n",
    "    return matches_df\n"
   ]
  },
  {
   "cell_type": "code",
   "execution_count": 32,
   "id": "06305fa3",
   "metadata": {
    "scrolled": false
   },
   "outputs": [
    {
     "name": "stdout",
     "output_type": "stream",
     "text": [
      "Shape of the Matched dataframe:  (20, 5)\n"
     ]
    },
    {
     "data": {
      "text/html": [
       "<div>\n",
       "<style scoped>\n",
       "    .dataframe tbody tr th:only-of-type {\n",
       "        vertical-align: middle;\n",
       "    }\n",
       "\n",
       "    .dataframe tbody tr th {\n",
       "        vertical-align: top;\n",
       "    }\n",
       "\n",
       "    .dataframe thead th {\n",
       "        text-align: right;\n",
       "    }\n",
       "</style>\n",
       "<table border=\"1\" class=\"dataframe\">\n",
       "  <thead>\n",
       "    <tr style=\"text-align: right;\">\n",
       "      <th></th>\n",
       "      <th>id</th>\n",
       "      <th>company_name_internal</th>\n",
       "      <th>company_name_closest_match</th>\n",
       "      <th>score</th>\n",
       "      <th>accountable_officer</th>\n",
       "    </tr>\n",
       "  </thead>\n",
       "  <tbody>\n",
       "    <tr>\n",
       "      <th>0</th>\n",
       "      <td>1</td>\n",
       "      <td>foothills pipe lines</td>\n",
       "      <td>foothills pipe lines</td>\n",
       "      <td>1.000000</td>\n",
       "      <td>Jawad Masud</td>\n",
       "    </tr>\n",
       "    <tr>\n",
       "      <th>1</th>\n",
       "      <td>2</td>\n",
       "      <td>pkm cochin</td>\n",
       "      <td>pkm cochin</td>\n",
       "      <td>1.000000</td>\n",
       "      <td>Jaret Sprott</td>\n",
       "    </tr>\n",
       "    <tr>\n",
       "      <th>2</th>\n",
       "      <td>3</td>\n",
       "      <td>maritimes and northeast pipeline</td>\n",
       "      <td>maritimes &amp; northeast pipeline management</td>\n",
       "      <td>0.794521</td>\n",
       "      <td>Cynthia Hansen</td>\n",
       "    </tr>\n",
       "    <tr>\n",
       "      <th>3</th>\n",
       "      <td>4</td>\n",
       "      <td>nova gas transmission</td>\n",
       "      <td>nova gas transmission</td>\n",
       "      <td>1.000000</td>\n",
       "      <td>Jawad Masud</td>\n",
       "    </tr>\n",
       "    <tr>\n",
       "      <th>4</th>\n",
       "      <td>5</td>\n",
       "      <td>trans mountain pipeline</td>\n",
       "      <td>trans mountain pipeline</td>\n",
       "      <td>1.000000</td>\n",
       "      <td>Rob Van Walleghem</td>\n",
       "    </tr>\n",
       "  </tbody>\n",
       "</table>\n",
       "</div>"
      ],
      "text/plain": [
       "  id             company_name_internal  \\\n",
       "0  1              foothills pipe lines   \n",
       "1  2                        pkm cochin   \n",
       "2  3  maritimes and northeast pipeline   \n",
       "3  4             nova gas transmission   \n",
       "4  5           trans mountain pipeline   \n",
       "\n",
       "                  company_name_closest_match     score accountable_officer  \n",
       "0                       foothills pipe lines  1.000000         Jawad Masud  \n",
       "1                                 pkm cochin  1.000000        Jaret Sprott  \n",
       "2  maritimes & northeast pipeline management  0.794521      Cynthia Hansen  \n",
       "3                      nova gas transmission  1.000000         Jawad Masud  \n",
       "4                    trans mountain pipeline  1.000000   Rob Van Walleghem  "
      ]
     },
     "execution_count": 32,
     "metadata": {},
     "output_type": "execute_result"
    }
   ],
   "source": [
    "matches_df = closest_match(internal_company_data, regulated_company_list)\n",
    "print('Shape of the Matched dataframe: ',matches_df.shape)\n",
    "matches_df.head()"
   ]
  },
  {
   "cell_type": "code",
   "execution_count": null,
   "id": "fd1323b7",
   "metadata": {},
   "outputs": [],
   "source": []
  }
 ],
 "metadata": {
  "kernelspec": {
   "display_name": "Python 3 (ipykernel)",
   "language": "python",
   "name": "python3"
  },
  "language_info": {
   "codemirror_mode": {
    "name": "ipython",
    "version": 3
   },
   "file_extension": ".py",
   "mimetype": "text/x-python",
   "name": "python",
   "nbconvert_exporter": "python",
   "pygments_lexer": "ipython3",
   "version": "3.9.12"
  }
 },
 "nbformat": 4,
 "nbformat_minor": 5
}
