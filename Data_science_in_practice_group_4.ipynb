{
  "nbformat": 4,
  "nbformat_minor": 0,
  "metadata": {
    "colab": {
      "provenance": [],
      "include_colab_link": true
    },
    "kernelspec": {
      "name": "python3",
      "display_name": "Python 3"
    },
    "language_info": {
      "name": "python"
    }
  },
  "cells": [
    {
      "cell_type": "markdown",
      "metadata": {
        "id": "view-in-github",
        "colab_type": "text"
      },
      "source": [
        "<a href=\"https://colab.research.google.com/github/Jondoloh/Data-Science-in-practice_STA2546/blob/main/Data_science_in_practice_group_4.ipynb\" target=\"_parent\"><img src=\"https://colab.research.google.com/assets/colab-badge.svg\" alt=\"Open In Colab\"/></a>"
      ]
    },
    {
      "cell_type": "markdown",
      "source": [
        "## 1. Loading the Libraries and dependencies"
      ],
      "metadata": {
        "id": "nl662qgWZ0B_"
      }
    },
    {
      "cell_type": "code",
      "source": [
        "import numpy as np\n",
        "import pandas as pd\n",
        "from sklearn.datasets import fetch_20newsgroups\n",
        "from sklearn.feature_extraction.text import CountVectorizer, TfidfVectorizer\n",
        "from sklearn.model_selection import train_test_split\n",
        "from sklearn.svm import SVC\n",
        "from sklearn.metrics import accuracy_score, confusion_matrix, classification_report\n",
        "import seaborn as sns"
      ],
      "metadata": {
        "id": "xZbZqSBpre2y"
      },
      "execution_count": null,
      "outputs": []
    },
    {
      "cell_type": "markdown",
      "source": [
        "## 2. Loading the 20 newsgroups dataset"
      ],
      "metadata": {
        "id": "CGf16UwaZ6rs"
      }
    },
    {
      "cell_type": "markdown",
      "source": [
        "The 20 Newsgroups dataset is a collection of 20,000 news articles partitioned into 20 different categories. It was likely collected by Ken Lang for his paper \"Newsweeder: Learning to filter netnews.\""
      ],
      "metadata": {
        "id": "rH569ZlGa9wb"
      }
    },
    {
      "cell_type": "code",
      "source": [
        "# Load the 20 Newsgroups dataset\n",
        "newsgroups = fetch_20newsgroups(subset='all')"
      ],
      "metadata": {
        "id": "Jzy1ACqarjzq"
      },
      "execution_count": null,
      "outputs": []
    },
    {
      "cell_type": "code",
      "source": [
        "#the data keys : represented as a dictionary\n",
        "newsgroups.keys()"
      ],
      "metadata": {
        "colab": {
          "base_uri": "https://localhost:8080/"
        },
        "id": "bUjqE3jGddQm",
        "outputId": "fbdea9de-ff61-41e3-dac3-44ff6a280750"
      },
      "execution_count": null,
      "outputs": [
        {
          "output_type": "execute_result",
          "data": {
            "text/plain": [
              "dict_keys(['data', 'filenames', 'target_names', 'target', 'DESCR'])"
            ]
          },
          "metadata": {},
          "execution_count": 31
        }
      ]
    },
    {
      "cell_type": "code",
      "source": [
        "len(newsgroups.data)"
      ],
      "metadata": {
        "colab": {
          "base_uri": "https://localhost:8080/"
        },
        "id": "4qQt9ftKb7Ng",
        "outputId": "ec53807b-a396-4796-fe7c-9a29d30dc38c"
      },
      "execution_count": null,
      "outputs": [
        {
          "output_type": "execute_result",
          "data": {
            "text/plain": [
              "18846"
            ]
          },
          "metadata": {},
          "execution_count": 41
        }
      ]
    },
    {
      "cell_type": "code",
      "source": [
        "newsgroups.filenames[:2]"
      ],
      "metadata": {
        "colab": {
          "base_uri": "https://localhost:8080/"
        },
        "id": "RCn3ACczdi_o",
        "outputId": "a6c01678-6477-4a5a-de70-362809be2f86"
      },
      "execution_count": null,
      "outputs": [
        {
          "output_type": "execute_result",
          "data": {
            "text/plain": [
              "array(['/root/scikit_learn_data/20news_home/20news-bydate-test/rec.sport.hockey/54367',\n",
              "       '/root/scikit_learn_data/20news_home/20news-bydate-train/comp.sys.ibm.pc.hardware/60215'],\n",
              "      dtype='<U86')"
            ]
          },
          "metadata": {},
          "execution_count": 20
        }
      ]
    },
    {
      "cell_type": "code",
      "source": [
        "len(newsgroups.filenames)"
      ],
      "metadata": {
        "colab": {
          "base_uri": "https://localhost:8080/"
        },
        "id": "yqKMvW0ncI4A",
        "outputId": "041e7cea-61ba-4752-f8a8-20480d6bbe87"
      },
      "execution_count": null,
      "outputs": [
        {
          "output_type": "execute_result",
          "data": {
            "text/plain": [
              "18846"
            ]
          },
          "metadata": {},
          "execution_count": 21
        }
      ]
    },
    {
      "cell_type": "code",
      "source": [
        "#exploring the 20 categories\n",
        "newsgroups.target_names"
      ],
      "metadata": {
        "id": "o4HfeZF8rzKe",
        "colab": {
          "base_uri": "https://localhost:8080/"
        },
        "outputId": "dc4e8678-46ed-4b63-f27a-a82299260abf"
      },
      "execution_count": null,
      "outputs": [
        {
          "output_type": "execute_result",
          "data": {
            "text/plain": [
              "['alt.atheism',\n",
              " 'comp.graphics',\n",
              " 'comp.os.ms-windows.misc',\n",
              " 'comp.sys.ibm.pc.hardware',\n",
              " 'comp.sys.mac.hardware',\n",
              " 'comp.windows.x',\n",
              " 'misc.forsale',\n",
              " 'rec.autos',\n",
              " 'rec.motorcycles',\n",
              " 'rec.sport.baseball',\n",
              " 'rec.sport.hockey',\n",
              " 'sci.crypt',\n",
              " 'sci.electronics',\n",
              " 'sci.med',\n",
              " 'sci.space',\n",
              " 'soc.religion.christian',\n",
              " 'talk.politics.guns',\n",
              " 'talk.politics.mideast',\n",
              " 'talk.politics.misc',\n",
              " 'talk.religion.misc']"
            ]
          },
          "metadata": {},
          "execution_count": 5
        }
      ]
    },
    {
      "cell_type": "code",
      "source": [
        "len(newsgroups.target_names)"
      ],
      "metadata": {
        "colab": {
          "base_uri": "https://localhost:8080/"
        },
        "id": "OIzYbji6dpc5",
        "outputId": "c6ee33c5-7fba-4ec2-f4ce-dd9def2732f7"
      },
      "execution_count": null,
      "outputs": [
        {
          "output_type": "execute_result",
          "data": {
            "text/plain": [
              "20"
            ]
          },
          "metadata": {},
          "execution_count": 22
        }
      ]
    },
    {
      "cell_type": "code",
      "source": [
        "# target: index of the category name in the target_names list\n",
        "newsgroups.target"
      ],
      "metadata": {
        "colab": {
          "base_uri": "https://localhost:8080/"
        },
        "id": "xdBRtY4wf4rT",
        "outputId": "0f257a9b-54fd-47d4-835e-022b33dad18b"
      },
      "execution_count": null,
      "outputs": [
        {
          "output_type": "execute_result",
          "data": {
            "text/plain": [
              "array([10,  3, 17, ...,  3,  1,  7])"
            ]
          },
          "metadata": {},
          "execution_count": 49
        }
      ]
    },
    {
      "cell_type": "code",
      "source": [
        "#sample category names\n",
        "for t in newsgroups.target[:10]:\n",
        "  print(newsgroups.target_names[t])"
      ],
      "metadata": {
        "colab": {
          "base_uri": "https://localhost:8080/"
        },
        "id": "0mxeGLDJga4B",
        "outputId": "9c748c17-af54-4cac-de2d-5934637df025"
      },
      "execution_count": null,
      "outputs": [
        {
          "output_type": "stream",
          "name": "stdout",
          "text": [
            "rec.sport.hockey\n",
            "comp.sys.ibm.pc.hardware\n",
            "talk.politics.mideast\n",
            "comp.sys.ibm.pc.hardware\n",
            "comp.sys.mac.hardware\n",
            "sci.electronics\n",
            "comp.sys.mac.hardware\n",
            "rec.sport.hockey\n",
            "rec.sport.hockey\n",
            "talk.religion.misc\n"
          ]
        }
      ]
    },
    {
      "cell_type": "markdown",
      "source": [
        "## 3. Text Processing"
      ],
      "metadata": {
        "id": "tYZoLN-3hxAM"
      }
    },
    {
      "cell_type": "code",
      "source": [
        "# Preprocess the text data\n",
        "vectorizer = TfidfVectorizer()\n",
        "text_data = vectorizer.fit_transform(newsgroups.data)"
      ],
      "metadata": {
        "id": "RAARW0tirlhz"
      },
      "execution_count": null,
      "outputs": []
    },
    {
      "cell_type": "markdown",
      "source": [
        "## 4. Splitting the dataset into training, test sets"
      ],
      "metadata": {
        "id": "vW6F3QrLi4Ls"
      }
    },
    {
      "cell_type": "code",
      "source": [
        "# Split the dataset into training and testing sets\n",
        "train_data, test_data, train_target, test_target = train_test_split(text_data, newsgroups.target, test_size=0.2, random_state=42)"
      ],
      "metadata": {
        "id": "_nyAu1xBrneG"
      },
      "execution_count": null,
      "outputs": []
    },
    {
      "cell_type": "markdown",
      "source": [
        "## 5. Training a classifier"
      ],
      "metadata": {
        "id": "3UvTacXojEUd"
      }
    },
    {
      "cell_type": "code",
      "source": [
        "# Train a multi-class classification model using SVM\n",
        "clf = SVC(kernel='linear', C=1, random_state=42)"
      ],
      "metadata": {
        "id": "48p9mzobrp34"
      },
      "execution_count": null,
      "outputs": []
    },
    {
      "cell_type": "code",
      "source": [
        "clf.fit(train_data, train_target)"
      ],
      "metadata": {
        "colab": {
          "base_uri": "https://localhost:8080/"
        },
        "id": "HCGeOkWmkPcb",
        "outputId": "2d08ca45-faf2-4fdf-b96f-a5769bc8e4b6"
      },
      "execution_count": null,
      "outputs": [
        {
          "output_type": "execute_result",
          "data": {
            "text/plain": [
              "SVC(C=1, kernel='linear', random_state=42)"
            ]
          },
          "metadata": {},
          "execution_count": 55
        }
      ]
    },
    {
      "cell_type": "markdown",
      "source": [
        "## 6. Evaluating model performance"
      ],
      "metadata": {
        "id": "IrtRTjQ8j6Pk"
      }
    },
    {
      "cell_type": "code",
      "execution_count": null,
      "metadata": {
        "id": "3H7UUqsRrWCk"
      },
      "outputs": [],
      "source": [
        "# Evaluate the model on the testing data\n",
        "predictions = clf.predict(test_data)"
      ]
    },
    {
      "cell_type": "code",
      "source": [
        "predictions"
      ],
      "metadata": {
        "colab": {
          "base_uri": "https://localhost:8080/"
        },
        "id": "1sDqH4_CmQ88",
        "outputId": "ff9e574a-ab93-4268-a28f-a4b72568f000"
      },
      "execution_count": null,
      "outputs": [
        {
          "output_type": "execute_result",
          "data": {
            "text/plain": [
              "array([ 9, 12, 14, ...,  0, 19, 14])"
            ]
          },
          "metadata": {},
          "execution_count": 60
        }
      ]
    },
    {
      "cell_type": "code",
      "source": [
        "#Accuracy\n",
        "print(\"Accuracy: \", accuracy_score(test_target, predictions))"
      ],
      "metadata": {
        "colab": {
          "base_uri": "https://localhost:8080/"
        },
        "id": "ASdE0fpWkLs6",
        "outputId": "91a22886-6c04-47e7-ff56-1e63a34b10b7"
      },
      "execution_count": null,
      "outputs": [
        {
          "output_type": "stream",
          "name": "stdout",
          "text": [
            "Accuracy:  0.9124668435013262\n"
          ]
        }
      ]
    },
    {
      "cell_type": "markdown",
      "source": [
        "SVM achieves 91.2% accuracy"
      ],
      "metadata": {
        "id": "BTGS219pmezK"
      }
    },
    {
      "cell_type": "code",
      "source": [
        "# #confusion matrix\n",
        "# print(\"Confusion Matrix: \\n\", confusion_matrix(test_target, predictions))"
      ],
      "metadata": {
        "id": "oKwVUI4xkZRY"
      },
      "execution_count": null,
      "outputs": []
    },
    {
      "cell_type": "code",
      "source": [
        "cm=confusion_matrix(test_target, predictions)"
      ],
      "metadata": {
        "id": "NGqTLuLHoYtF"
      },
      "execution_count": null,
      "outputs": []
    },
    {
      "cell_type": "code",
      "source": [
        "# Transform the confusion matrix into a dataframe\n",
        "df_cm = pd.DataFrame(cm, index = [i for i in newsgroups.target_names],\n",
        "                  columns = [i for i in newsgroups.target_names])"
      ],
      "metadata": {
        "id": "3ePMOC2zoxiY"
      },
      "execution_count": null,
      "outputs": []
    },
    {
      "cell_type": "code",
      "source": [
        "df_cm"
      ],
      "metadata": {
        "colab": {
          "base_uri": "https://localhost:8080/",
          "height": 775
        },
        "id": "BUqJioBAo_yd",
        "outputId": "974ed0bd-4e9f-415c-83c3-7c999b36f813"
      },
      "execution_count": null,
      "outputs": [
        {
          "output_type": "execute_result",
          "data": {
            "text/plain": [
              "                          alt.atheism  comp.graphics  comp.os.ms-windows.misc  \\\n",
              "alt.atheism                       137              0                        0   \n",
              "comp.graphics                       0            176                        6   \n",
              "comp.os.ms-windows.misc             0              8                      163   \n",
              "comp.sys.ibm.pc.hardware            0              9                        7   \n",
              "comp.sys.mac.hardware               0              5                        3   \n",
              "comp.windows.x                      0             16                        1   \n",
              "misc.forsale                        0              0                        2   \n",
              "rec.autos                           0              1                        0   \n",
              "rec.motorcycles                     0              0                        0   \n",
              "rec.sport.baseball                  0              0                        0   \n",
              "rec.sport.hockey                    0              1                        1   \n",
              "sci.crypt                           0              4                        2   \n",
              "sci.electronics                     0              3                        1   \n",
              "sci.med                             0              3                        0   \n",
              "sci.space                           0              1                        0   \n",
              "soc.religion.christian              1              1                        0   \n",
              "talk.politics.guns                  0              0                        1   \n",
              "talk.politics.mideast               0              1                        0   \n",
              "talk.politics.misc                  0              0                        0   \n",
              "talk.religion.misc                  8              0                        0   \n",
              "\n",
              "                          comp.sys.ibm.pc.hardware  comp.sys.mac.hardware  \\\n",
              "alt.atheism                                      0                      0   \n",
              "comp.graphics                                    7                      1   \n",
              "comp.os.ms-windows.misc                         13                      1   \n",
              "comp.sys.ibm.pc.hardware                       149                      6   \n",
              "comp.sys.mac.hardware                            9                    176   \n",
              "comp.windows.x                                   4                      1   \n",
              "misc.forsale                                    13                      2   \n",
              "rec.autos                                        0                      0   \n",
              "rec.motorcycles                                  0                      1   \n",
              "rec.sport.baseball                               0                      0   \n",
              "rec.sport.hockey                                 0                      1   \n",
              "sci.crypt                                        0                      0   \n",
              "sci.electronics                                  8                      1   \n",
              "sci.med                                          1                      0   \n",
              "sci.space                                        0                      0   \n",
              "soc.religion.christian                           0                      0   \n",
              "talk.politics.guns                               0                      0   \n",
              "talk.politics.mideast                            0                      0   \n",
              "talk.politics.misc                               0                      0   \n",
              "talk.religion.misc                               0                      0   \n",
              "\n",
              "                          comp.windows.x  misc.forsale  rec.autos  \\\n",
              "alt.atheism                            0             0          1   \n",
              "comp.graphics                          8             2          0   \n",
              "comp.os.ms-windows.misc                9             1          0   \n",
              "comp.sys.ibm.pc.hardware               2             6          0   \n",
              "comp.sys.mac.hardware                  1             7          0   \n",
              "comp.windows.x                       189             1          1   \n",
              "misc.forsale                           0           164          4   \n",
              "rec.autos                              0             2        188   \n",
              "rec.motorcycles                        0             4          2   \n",
              "rec.sport.baseball                     0             1          0   \n",
              "rec.sport.hockey                       1             2          1   \n",
              "sci.crypt                              0             0          0   \n",
              "sci.electronics                        0             7          5   \n",
              "sci.med                                1             1          1   \n",
              "sci.space                              2             0          0   \n",
              "soc.religion.christian                 0             0          0   \n",
              "talk.politics.guns                     0             0          1   \n",
              "talk.politics.mideast                  1             0          0   \n",
              "talk.politics.misc                     0             2          1   \n",
              "talk.religion.misc                     1             2          0   \n",
              "\n",
              "                          rec.motorcycles  rec.sport.baseball  \\\n",
              "alt.atheism                             0                   0   \n",
              "comp.graphics                           0                   1   \n",
              "comp.os.ms-windows.misc                 0                   0   \n",
              "comp.sys.ibm.pc.hardware                0                   0   \n",
              "comp.sys.mac.hardware                   0                   0   \n",
              "comp.windows.x                          0                   0   \n",
              "misc.forsale                            0                   0   \n",
              "rec.autos                               1                   0   \n",
              "rec.motorcycles                       159                   0   \n",
              "rec.sport.baseball                      0                 206   \n",
              "rec.sport.hockey                        2                   1   \n",
              "sci.crypt                               0                   1   \n",
              "sci.electronics                         0                   1   \n",
              "sci.med                                 0                   0   \n",
              "sci.space                               0                   0   \n",
              "soc.religion.christian                  0                   1   \n",
              "talk.politics.guns                      0                   1   \n",
              "talk.politics.mideast                   0                   0   \n",
              "talk.politics.misc                      0                   0   \n",
              "talk.religion.misc                      0                   0   \n",
              "\n",
              "                          rec.sport.hockey  sci.crypt  sci.electronics  \\\n",
              "alt.atheism                              0          0                0   \n",
              "comp.graphics                            0          0                0   \n",
              "comp.os.ms-windows.misc                  0          0                0   \n",
              "comp.sys.ibm.pc.hardware                 0          0                4   \n",
              "comp.sys.mac.hardware                    0          0                3   \n",
              "comp.windows.x                           1          0                0   \n",
              "misc.forsale                             1          0                6   \n",
              "rec.autos                                0          0                3   \n",
              "rec.motorcycles                          0          0                1   \n",
              "rec.sport.baseball                       3          0                0   \n",
              "rec.sport.hockey                       188          0                0   \n",
              "sci.crypt                                0        190                1   \n",
              "sci.electronics                          0          0              175   \n",
              "sci.med                                  0          0                3   \n",
              "sci.space                                0          0                0   \n",
              "soc.religion.christian                   0          0                0   \n",
              "talk.politics.guns                       0          1                0   \n",
              "talk.politics.mideast                    0          0                0   \n",
              "talk.politics.misc                       0          1                0   \n",
              "talk.religion.misc                       0          0                1   \n",
              "\n",
              "                          sci.med  sci.space  soc.religion.christian  \\\n",
              "alt.atheism                     1          2                       0   \n",
              "comp.graphics                   1          0                       0   \n",
              "comp.os.ms-windows.misc         0          0                       0   \n",
              "comp.sys.ibm.pc.hardware        0          0                       0   \n",
              "comp.sys.mac.hardware           0          0                       0   \n",
              "comp.windows.x                  0          1                       0   \n",
              "misc.forsale                    0          1                       0   \n",
              "rec.autos                       1          0                       0   \n",
              "rec.motorcycles                 0          0                       0   \n",
              "rec.sport.baseball              0          0                       0   \n",
              "rec.sport.hockey                0          0                       0   \n",
              "sci.crypt                       2          0                       0   \n",
              "sci.electronics                 0          1                       0   \n",
              "sci.med                       183          0                       0   \n",
              "sci.space                       2        184                       0   \n",
              "soc.religion.christian          0          0                     198   \n",
              "talk.politics.guns              1          0                       0   \n",
              "talk.politics.mideast           0          0                       1   \n",
              "talk.politics.misc              3          1                       0   \n",
              "talk.religion.misc              1          0                       6   \n",
              "\n",
              "                          talk.politics.guns  talk.politics.mideast  \\\n",
              "alt.atheism                                0                      0   \n",
              "comp.graphics                              0                      0   \n",
              "comp.os.ms-windows.misc                    0                      0   \n",
              "comp.sys.ibm.pc.hardware                   0                      0   \n",
              "comp.sys.mac.hardware                      1                      0   \n",
              "comp.windows.x                             0                      0   \n",
              "misc.forsale                               0                      0   \n",
              "rec.autos                                  0                      0   \n",
              "rec.motorcycles                            1                      0   \n",
              "rec.sport.baseball                         0                      0   \n",
              "rec.sport.hockey                           0                      0   \n",
              "sci.crypt                                  0                      0   \n",
              "sci.electronics                            0                      0   \n",
              "sci.med                                    0                      0   \n",
              "sci.space                                  0                      0   \n",
              "soc.religion.christian                     0                      0   \n",
              "talk.politics.guns                       178                      0   \n",
              "talk.politics.mideast                      0                    179   \n",
              "talk.politics.misc                         5                      1   \n",
              "talk.religion.misc                         1                      0   \n",
              "\n",
              "                          talk.politics.misc  talk.religion.misc  \n",
              "alt.atheism                                1                   9  \n",
              "comp.graphics                              0                   0  \n",
              "comp.os.ms-windows.misc                    0                   0  \n",
              "comp.sys.ibm.pc.hardware                   0                   0  \n",
              "comp.sys.mac.hardware                      0                   0  \n",
              "comp.windows.x                             0                   0  \n",
              "misc.forsale                               0                   0  \n",
              "rec.autos                                  0                   0  \n",
              "rec.motorcycles                            0                   0  \n",
              "rec.sport.baseball                         0                   1  \n",
              "rec.sport.hockey                           0                   0  \n",
              "sci.crypt                                  1                   0  \n",
              "sci.electronics                            0                   0  \n",
              "sci.med                                    1                   0  \n",
              "sci.space                                  0                   0  \n",
              "soc.religion.christian                     0                   1  \n",
              "talk.politics.guns                         3                   2  \n",
              "talk.politics.mideast                      0                   0  \n",
              "talk.politics.misc                       144                   1  \n",
              "talk.religion.misc                         2                 114  "
            ],
            "text/html": [
              "\n",
              "  <div id=\"df-d416bd0e-e42a-4954-b55b-48208cd3867c\">\n",
              "    <div class=\"colab-df-container\">\n",
              "      <div>\n",
              "<style scoped>\n",
              "    .dataframe tbody tr th:only-of-type {\n",
              "        vertical-align: middle;\n",
              "    }\n",
              "\n",
              "    .dataframe tbody tr th {\n",
              "        vertical-align: top;\n",
              "    }\n",
              "\n",
              "    .dataframe thead th {\n",
              "        text-align: right;\n",
              "    }\n",
              "</style>\n",
              "<table border=\"1\" class=\"dataframe\">\n",
              "  <thead>\n",
              "    <tr style=\"text-align: right;\">\n",
              "      <th></th>\n",
              "      <th>alt.atheism</th>\n",
              "      <th>comp.graphics</th>\n",
              "      <th>comp.os.ms-windows.misc</th>\n",
              "      <th>comp.sys.ibm.pc.hardware</th>\n",
              "      <th>comp.sys.mac.hardware</th>\n",
              "      <th>comp.windows.x</th>\n",
              "      <th>misc.forsale</th>\n",
              "      <th>rec.autos</th>\n",
              "      <th>rec.motorcycles</th>\n",
              "      <th>rec.sport.baseball</th>\n",
              "      <th>rec.sport.hockey</th>\n",
              "      <th>sci.crypt</th>\n",
              "      <th>sci.electronics</th>\n",
              "      <th>sci.med</th>\n",
              "      <th>sci.space</th>\n",
              "      <th>soc.religion.christian</th>\n",
              "      <th>talk.politics.guns</th>\n",
              "      <th>talk.politics.mideast</th>\n",
              "      <th>talk.politics.misc</th>\n",
              "      <th>talk.religion.misc</th>\n",
              "    </tr>\n",
              "  </thead>\n",
              "  <tbody>\n",
              "    <tr>\n",
              "      <th>alt.atheism</th>\n",
              "      <td>137</td>\n",
              "      <td>0</td>\n",
              "      <td>0</td>\n",
              "      <td>0</td>\n",
              "      <td>0</td>\n",
              "      <td>0</td>\n",
              "      <td>0</td>\n",
              "      <td>1</td>\n",
              "      <td>0</td>\n",
              "      <td>0</td>\n",
              "      <td>0</td>\n",
              "      <td>0</td>\n",
              "      <td>0</td>\n",
              "      <td>1</td>\n",
              "      <td>2</td>\n",
              "      <td>0</td>\n",
              "      <td>0</td>\n",
              "      <td>0</td>\n",
              "      <td>1</td>\n",
              "      <td>9</td>\n",
              "    </tr>\n",
              "    <tr>\n",
              "      <th>comp.graphics</th>\n",
              "      <td>0</td>\n",
              "      <td>176</td>\n",
              "      <td>6</td>\n",
              "      <td>7</td>\n",
              "      <td>1</td>\n",
              "      <td>8</td>\n",
              "      <td>2</td>\n",
              "      <td>0</td>\n",
              "      <td>0</td>\n",
              "      <td>1</td>\n",
              "      <td>0</td>\n",
              "      <td>0</td>\n",
              "      <td>0</td>\n",
              "      <td>1</td>\n",
              "      <td>0</td>\n",
              "      <td>0</td>\n",
              "      <td>0</td>\n",
              "      <td>0</td>\n",
              "      <td>0</td>\n",
              "      <td>0</td>\n",
              "    </tr>\n",
              "    <tr>\n",
              "      <th>comp.os.ms-windows.misc</th>\n",
              "      <td>0</td>\n",
              "      <td>8</td>\n",
              "      <td>163</td>\n",
              "      <td>13</td>\n",
              "      <td>1</td>\n",
              "      <td>9</td>\n",
              "      <td>1</td>\n",
              "      <td>0</td>\n",
              "      <td>0</td>\n",
              "      <td>0</td>\n",
              "      <td>0</td>\n",
              "      <td>0</td>\n",
              "      <td>0</td>\n",
              "      <td>0</td>\n",
              "      <td>0</td>\n",
              "      <td>0</td>\n",
              "      <td>0</td>\n",
              "      <td>0</td>\n",
              "      <td>0</td>\n",
              "      <td>0</td>\n",
              "    </tr>\n",
              "    <tr>\n",
              "      <th>comp.sys.ibm.pc.hardware</th>\n",
              "      <td>0</td>\n",
              "      <td>9</td>\n",
              "      <td>7</td>\n",
              "      <td>149</td>\n",
              "      <td>6</td>\n",
              "      <td>2</td>\n",
              "      <td>6</td>\n",
              "      <td>0</td>\n",
              "      <td>0</td>\n",
              "      <td>0</td>\n",
              "      <td>0</td>\n",
              "      <td>0</td>\n",
              "      <td>4</td>\n",
              "      <td>0</td>\n",
              "      <td>0</td>\n",
              "      <td>0</td>\n",
              "      <td>0</td>\n",
              "      <td>0</td>\n",
              "      <td>0</td>\n",
              "      <td>0</td>\n",
              "    </tr>\n",
              "    <tr>\n",
              "      <th>comp.sys.mac.hardware</th>\n",
              "      <td>0</td>\n",
              "      <td>5</td>\n",
              "      <td>3</td>\n",
              "      <td>9</td>\n",
              "      <td>176</td>\n",
              "      <td>1</td>\n",
              "      <td>7</td>\n",
              "      <td>0</td>\n",
              "      <td>0</td>\n",
              "      <td>0</td>\n",
              "      <td>0</td>\n",
              "      <td>0</td>\n",
              "      <td>3</td>\n",
              "      <td>0</td>\n",
              "      <td>0</td>\n",
              "      <td>0</td>\n",
              "      <td>1</td>\n",
              "      <td>0</td>\n",
              "      <td>0</td>\n",
              "      <td>0</td>\n",
              "    </tr>\n",
              "    <tr>\n",
              "      <th>comp.windows.x</th>\n",
              "      <td>0</td>\n",
              "      <td>16</td>\n",
              "      <td>1</td>\n",
              "      <td>4</td>\n",
              "      <td>1</td>\n",
              "      <td>189</td>\n",
              "      <td>1</td>\n",
              "      <td>1</td>\n",
              "      <td>0</td>\n",
              "      <td>0</td>\n",
              "      <td>1</td>\n",
              "      <td>0</td>\n",
              "      <td>0</td>\n",
              "      <td>0</td>\n",
              "      <td>1</td>\n",
              "      <td>0</td>\n",
              "      <td>0</td>\n",
              "      <td>0</td>\n",
              "      <td>0</td>\n",
              "      <td>0</td>\n",
              "    </tr>\n",
              "    <tr>\n",
              "      <th>misc.forsale</th>\n",
              "      <td>0</td>\n",
              "      <td>0</td>\n",
              "      <td>2</td>\n",
              "      <td>13</td>\n",
              "      <td>2</td>\n",
              "      <td>0</td>\n",
              "      <td>164</td>\n",
              "      <td>4</td>\n",
              "      <td>0</td>\n",
              "      <td>0</td>\n",
              "      <td>1</td>\n",
              "      <td>0</td>\n",
              "      <td>6</td>\n",
              "      <td>0</td>\n",
              "      <td>1</td>\n",
              "      <td>0</td>\n",
              "      <td>0</td>\n",
              "      <td>0</td>\n",
              "      <td>0</td>\n",
              "      <td>0</td>\n",
              "    </tr>\n",
              "    <tr>\n",
              "      <th>rec.autos</th>\n",
              "      <td>0</td>\n",
              "      <td>1</td>\n",
              "      <td>0</td>\n",
              "      <td>0</td>\n",
              "      <td>0</td>\n",
              "      <td>0</td>\n",
              "      <td>2</td>\n",
              "      <td>188</td>\n",
              "      <td>1</td>\n",
              "      <td>0</td>\n",
              "      <td>0</td>\n",
              "      <td>0</td>\n",
              "      <td>3</td>\n",
              "      <td>1</td>\n",
              "      <td>0</td>\n",
              "      <td>0</td>\n",
              "      <td>0</td>\n",
              "      <td>0</td>\n",
              "      <td>0</td>\n",
              "      <td>0</td>\n",
              "    </tr>\n",
              "    <tr>\n",
              "      <th>rec.motorcycles</th>\n",
              "      <td>0</td>\n",
              "      <td>0</td>\n",
              "      <td>0</td>\n",
              "      <td>0</td>\n",
              "      <td>1</td>\n",
              "      <td>0</td>\n",
              "      <td>4</td>\n",
              "      <td>2</td>\n",
              "      <td>159</td>\n",
              "      <td>0</td>\n",
              "      <td>0</td>\n",
              "      <td>0</td>\n",
              "      <td>1</td>\n",
              "      <td>0</td>\n",
              "      <td>0</td>\n",
              "      <td>0</td>\n",
              "      <td>1</td>\n",
              "      <td>0</td>\n",
              "      <td>0</td>\n",
              "      <td>0</td>\n",
              "    </tr>\n",
              "    <tr>\n",
              "      <th>rec.sport.baseball</th>\n",
              "      <td>0</td>\n",
              "      <td>0</td>\n",
              "      <td>0</td>\n",
              "      <td>0</td>\n",
              "      <td>0</td>\n",
              "      <td>0</td>\n",
              "      <td>1</td>\n",
              "      <td>0</td>\n",
              "      <td>0</td>\n",
              "      <td>206</td>\n",
              "      <td>3</td>\n",
              "      <td>0</td>\n",
              "      <td>0</td>\n",
              "      <td>0</td>\n",
              "      <td>0</td>\n",
              "      <td>0</td>\n",
              "      <td>0</td>\n",
              "      <td>0</td>\n",
              "      <td>0</td>\n",
              "      <td>1</td>\n",
              "    </tr>\n",
              "    <tr>\n",
              "      <th>rec.sport.hockey</th>\n",
              "      <td>0</td>\n",
              "      <td>1</td>\n",
              "      <td>1</td>\n",
              "      <td>0</td>\n",
              "      <td>1</td>\n",
              "      <td>1</td>\n",
              "      <td>2</td>\n",
              "      <td>1</td>\n",
              "      <td>2</td>\n",
              "      <td>1</td>\n",
              "      <td>188</td>\n",
              "      <td>0</td>\n",
              "      <td>0</td>\n",
              "      <td>0</td>\n",
              "      <td>0</td>\n",
              "      <td>0</td>\n",
              "      <td>0</td>\n",
              "      <td>0</td>\n",
              "      <td>0</td>\n",
              "      <td>0</td>\n",
              "    </tr>\n",
              "    <tr>\n",
              "      <th>sci.crypt</th>\n",
              "      <td>0</td>\n",
              "      <td>4</td>\n",
              "      <td>2</td>\n",
              "      <td>0</td>\n",
              "      <td>0</td>\n",
              "      <td>0</td>\n",
              "      <td>0</td>\n",
              "      <td>0</td>\n",
              "      <td>0</td>\n",
              "      <td>1</td>\n",
              "      <td>0</td>\n",
              "      <td>190</td>\n",
              "      <td>1</td>\n",
              "      <td>2</td>\n",
              "      <td>0</td>\n",
              "      <td>0</td>\n",
              "      <td>0</td>\n",
              "      <td>0</td>\n",
              "      <td>1</td>\n",
              "      <td>0</td>\n",
              "    </tr>\n",
              "    <tr>\n",
              "      <th>sci.electronics</th>\n",
              "      <td>0</td>\n",
              "      <td>3</td>\n",
              "      <td>1</td>\n",
              "      <td>8</td>\n",
              "      <td>1</td>\n",
              "      <td>0</td>\n",
              "      <td>7</td>\n",
              "      <td>5</td>\n",
              "      <td>0</td>\n",
              "      <td>1</td>\n",
              "      <td>0</td>\n",
              "      <td>0</td>\n",
              "      <td>175</td>\n",
              "      <td>0</td>\n",
              "      <td>1</td>\n",
              "      <td>0</td>\n",
              "      <td>0</td>\n",
              "      <td>0</td>\n",
              "      <td>0</td>\n",
              "      <td>0</td>\n",
              "    </tr>\n",
              "    <tr>\n",
              "      <th>sci.med</th>\n",
              "      <td>0</td>\n",
              "      <td>3</td>\n",
              "      <td>0</td>\n",
              "      <td>1</td>\n",
              "      <td>0</td>\n",
              "      <td>1</td>\n",
              "      <td>1</td>\n",
              "      <td>1</td>\n",
              "      <td>0</td>\n",
              "      <td>0</td>\n",
              "      <td>0</td>\n",
              "      <td>0</td>\n",
              "      <td>3</td>\n",
              "      <td>183</td>\n",
              "      <td>0</td>\n",
              "      <td>0</td>\n",
              "      <td>0</td>\n",
              "      <td>0</td>\n",
              "      <td>1</td>\n",
              "      <td>0</td>\n",
              "    </tr>\n",
              "    <tr>\n",
              "      <th>sci.space</th>\n",
              "      <td>0</td>\n",
              "      <td>1</td>\n",
              "      <td>0</td>\n",
              "      <td>0</td>\n",
              "      <td>0</td>\n",
              "      <td>2</td>\n",
              "      <td>0</td>\n",
              "      <td>0</td>\n",
              "      <td>0</td>\n",
              "      <td>0</td>\n",
              "      <td>0</td>\n",
              "      <td>0</td>\n",
              "      <td>0</td>\n",
              "      <td>2</td>\n",
              "      <td>184</td>\n",
              "      <td>0</td>\n",
              "      <td>0</td>\n",
              "      <td>0</td>\n",
              "      <td>0</td>\n",
              "      <td>0</td>\n",
              "    </tr>\n",
              "    <tr>\n",
              "      <th>soc.religion.christian</th>\n",
              "      <td>1</td>\n",
              "      <td>1</td>\n",
              "      <td>0</td>\n",
              "      <td>0</td>\n",
              "      <td>0</td>\n",
              "      <td>0</td>\n",
              "      <td>0</td>\n",
              "      <td>0</td>\n",
              "      <td>0</td>\n",
              "      <td>1</td>\n",
              "      <td>0</td>\n",
              "      <td>0</td>\n",
              "      <td>0</td>\n",
              "      <td>0</td>\n",
              "      <td>0</td>\n",
              "      <td>198</td>\n",
              "      <td>0</td>\n",
              "      <td>0</td>\n",
              "      <td>0</td>\n",
              "      <td>1</td>\n",
              "    </tr>\n",
              "    <tr>\n",
              "      <th>talk.politics.guns</th>\n",
              "      <td>0</td>\n",
              "      <td>0</td>\n",
              "      <td>1</td>\n",
              "      <td>0</td>\n",
              "      <td>0</td>\n",
              "      <td>0</td>\n",
              "      <td>0</td>\n",
              "      <td>1</td>\n",
              "      <td>0</td>\n",
              "      <td>1</td>\n",
              "      <td>0</td>\n",
              "      <td>1</td>\n",
              "      <td>0</td>\n",
              "      <td>1</td>\n",
              "      <td>0</td>\n",
              "      <td>0</td>\n",
              "      <td>178</td>\n",
              "      <td>0</td>\n",
              "      <td>3</td>\n",
              "      <td>2</td>\n",
              "    </tr>\n",
              "    <tr>\n",
              "      <th>talk.politics.mideast</th>\n",
              "      <td>0</td>\n",
              "      <td>1</td>\n",
              "      <td>0</td>\n",
              "      <td>0</td>\n",
              "      <td>0</td>\n",
              "      <td>1</td>\n",
              "      <td>0</td>\n",
              "      <td>0</td>\n",
              "      <td>0</td>\n",
              "      <td>0</td>\n",
              "      <td>0</td>\n",
              "      <td>0</td>\n",
              "      <td>0</td>\n",
              "      <td>0</td>\n",
              "      <td>0</td>\n",
              "      <td>1</td>\n",
              "      <td>0</td>\n",
              "      <td>179</td>\n",
              "      <td>0</td>\n",
              "      <td>0</td>\n",
              "    </tr>\n",
              "    <tr>\n",
              "      <th>talk.politics.misc</th>\n",
              "      <td>0</td>\n",
              "      <td>0</td>\n",
              "      <td>0</td>\n",
              "      <td>0</td>\n",
              "      <td>0</td>\n",
              "      <td>0</td>\n",
              "      <td>2</td>\n",
              "      <td>1</td>\n",
              "      <td>0</td>\n",
              "      <td>0</td>\n",
              "      <td>0</td>\n",
              "      <td>1</td>\n",
              "      <td>0</td>\n",
              "      <td>3</td>\n",
              "      <td>1</td>\n",
              "      <td>0</td>\n",
              "      <td>5</td>\n",
              "      <td>1</td>\n",
              "      <td>144</td>\n",
              "      <td>1</td>\n",
              "    </tr>\n",
              "    <tr>\n",
              "      <th>talk.religion.misc</th>\n",
              "      <td>8</td>\n",
              "      <td>0</td>\n",
              "      <td>0</td>\n",
              "      <td>0</td>\n",
              "      <td>0</td>\n",
              "      <td>1</td>\n",
              "      <td>2</td>\n",
              "      <td>0</td>\n",
              "      <td>0</td>\n",
              "      <td>0</td>\n",
              "      <td>0</td>\n",
              "      <td>0</td>\n",
              "      <td>1</td>\n",
              "      <td>1</td>\n",
              "      <td>0</td>\n",
              "      <td>6</td>\n",
              "      <td>1</td>\n",
              "      <td>0</td>\n",
              "      <td>2</td>\n",
              "      <td>114</td>\n",
              "    </tr>\n",
              "  </tbody>\n",
              "</table>\n",
              "</div>\n",
              "      <button class=\"colab-df-convert\" onclick=\"convertToInteractive('df-d416bd0e-e42a-4954-b55b-48208cd3867c')\"\n",
              "              title=\"Convert this dataframe to an interactive table.\"\n",
              "              style=\"display:none;\">\n",
              "        \n",
              "  <svg xmlns=\"http://www.w3.org/2000/svg\" height=\"24px\"viewBox=\"0 0 24 24\"\n",
              "       width=\"24px\">\n",
              "    <path d=\"M0 0h24v24H0V0z\" fill=\"none\"/>\n",
              "    <path d=\"M18.56 5.44l.94 2.06.94-2.06 2.06-.94-2.06-.94-.94-2.06-.94 2.06-2.06.94zm-11 1L8.5 8.5l.94-2.06 2.06-.94-2.06-.94L8.5 2.5l-.94 2.06-2.06.94zm10 10l.94 2.06.94-2.06 2.06-.94-2.06-.94-.94-2.06-.94 2.06-2.06.94z\"/><path d=\"M17.41 7.96l-1.37-1.37c-.4-.4-.92-.59-1.43-.59-.52 0-1.04.2-1.43.59L10.3 9.45l-7.72 7.72c-.78.78-.78 2.05 0 2.83L4 21.41c.39.39.9.59 1.41.59.51 0 1.02-.2 1.41-.59l7.78-7.78 2.81-2.81c.8-.78.8-2.07 0-2.86zM5.41 20L4 18.59l7.72-7.72 1.47 1.35L5.41 20z\"/>\n",
              "  </svg>\n",
              "      </button>\n",
              "      \n",
              "  <style>\n",
              "    .colab-df-container {\n",
              "      display:flex;\n",
              "      flex-wrap:wrap;\n",
              "      gap: 12px;\n",
              "    }\n",
              "\n",
              "    .colab-df-convert {\n",
              "      background-color: #E8F0FE;\n",
              "      border: none;\n",
              "      border-radius: 50%;\n",
              "      cursor: pointer;\n",
              "      display: none;\n",
              "      fill: #1967D2;\n",
              "      height: 32px;\n",
              "      padding: 0 0 0 0;\n",
              "      width: 32px;\n",
              "    }\n",
              "\n",
              "    .colab-df-convert:hover {\n",
              "      background-color: #E2EBFA;\n",
              "      box-shadow: 0px 1px 2px rgba(60, 64, 67, 0.3), 0px 1px 3px 1px rgba(60, 64, 67, 0.15);\n",
              "      fill: #174EA6;\n",
              "    }\n",
              "\n",
              "    [theme=dark] .colab-df-convert {\n",
              "      background-color: #3B4455;\n",
              "      fill: #D2E3FC;\n",
              "    }\n",
              "\n",
              "    [theme=dark] .colab-df-convert:hover {\n",
              "      background-color: #434B5C;\n",
              "      box-shadow: 0px 1px 3px 1px rgba(0, 0, 0, 0.15);\n",
              "      filter: drop-shadow(0px 1px 2px rgba(0, 0, 0, 0.3));\n",
              "      fill: #FFFFFF;\n",
              "    }\n",
              "  </style>\n",
              "\n",
              "      <script>\n",
              "        const buttonEl =\n",
              "          document.querySelector('#df-d416bd0e-e42a-4954-b55b-48208cd3867c button.colab-df-convert');\n",
              "        buttonEl.style.display =\n",
              "          google.colab.kernel.accessAllowed ? 'block' : 'none';\n",
              "\n",
              "        async function convertToInteractive(key) {\n",
              "          const element = document.querySelector('#df-d416bd0e-e42a-4954-b55b-48208cd3867c');\n",
              "          const dataTable =\n",
              "            await google.colab.kernel.invokeFunction('convertToInteractive',\n",
              "                                                     [key], {});\n",
              "          if (!dataTable) return;\n",
              "\n",
              "          const docLinkHtml = 'Like what you see? Visit the ' +\n",
              "            '<a target=\"_blank\" href=https://colab.research.google.com/notebooks/data_table.ipynb>data table notebook</a>'\n",
              "            + ' to learn more about interactive tables.';\n",
              "          element.innerHTML = '';\n",
              "          dataTable['output_type'] = 'display_data';\n",
              "          await google.colab.output.renderOutput(dataTable, element);\n",
              "          const docLink = document.createElement('div');\n",
              "          docLink.innerHTML = docLinkHtml;\n",
              "          element.appendChild(docLink);\n",
              "        }\n",
              "      </script>\n",
              "    </div>\n",
              "  </div>\n",
              "  "
            ]
          },
          "metadata": {},
          "execution_count": 70
        }
      ]
    },
    {
      "cell_type": "code",
      "source": [
        "# print(\"Confusion Matrix: \\n\",sns.heatmap(confusion_matrix(test_target, predictions), annot=True,fmt=\".0f\"))"
      ],
      "metadata": {
        "id": "6FOREpGSm6d6"
      },
      "execution_count": null,
      "outputs": []
    },
    {
      "cell_type": "code",
      "source": [
        "print(\"Classification Report: \\n\", classification_report(test_target, predictions))"
      ],
      "metadata": {
        "colab": {
          "base_uri": "https://localhost:8080/"
        },
        "id": "I2F8xtiWkcHG",
        "outputId": "91839d81-325a-4c71-be0d-9be3cdf06a18"
      },
      "execution_count": null,
      "outputs": [
        {
          "output_type": "stream",
          "name": "stdout",
          "text": [
            "Classification Report: \n",
            "               precision    recall  f1-score   support\n",
            "\n",
            "           0       0.94      0.91      0.92       151\n",
            "           1       0.77      0.87      0.82       202\n",
            "           2       0.87      0.84      0.85       195\n",
            "           3       0.73      0.81      0.77       183\n",
            "           4       0.93      0.86      0.89       205\n",
            "           5       0.88      0.88      0.88       215\n",
            "           6       0.81      0.85      0.83       193\n",
            "           7       0.92      0.96      0.94       196\n",
            "           8       0.98      0.95      0.96       168\n",
            "           9       0.97      0.98      0.97       211\n",
            "          10       0.97      0.95      0.96       198\n",
            "          11       0.99      0.95      0.97       201\n",
            "          12       0.89      0.87      0.88       202\n",
            "          13       0.94      0.94      0.94       194\n",
            "          14       0.97      0.97      0.97       189\n",
            "          15       0.97      0.98      0.97       202\n",
            "          16       0.96      0.95      0.95       188\n",
            "          17       0.99      0.98      0.99       182\n",
            "          18       0.95      0.91      0.93       159\n",
            "          19       0.89      0.84      0.86       136\n",
            "\n",
            "    accuracy                           0.91      3770\n",
            "   macro avg       0.92      0.91      0.91      3770\n",
            "weighted avg       0.92      0.91      0.91      3770\n",
            "\n"
          ]
        }
      ]
    },
    {
      "cell_type": "code",
      "source": [],
      "metadata": {
        "id": "sXkU2C3xqlco"
      },
      "execution_count": null,
      "outputs": []
    }
  ]
}